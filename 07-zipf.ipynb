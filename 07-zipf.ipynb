{
 "cells": [
  {
   "cell_type": "code",
   "execution_count": 4,
   "metadata": {},
   "outputs": [],
   "source": [
    "import json\n",
    "import pandas as pd\n",
    "from collections import Counter\n",
    "from pylab import plot, loglog\n",
    "import re\n",
    "\n",
    "%matplotlib inline\n",
    "\n",
    "def read_one(line, _split):\n",
    "    if _split:\n",
    "        k, v = line.split('\\t')\n",
    "        d = json.loads(v)\n",
    "        d[\"key\"] = \":\".join(k.split('/')[0:2])\n",
    "    else:\n",
    "        d = json.loads(line)\n",
    "    return d\n",
    "\n",
    "\n",
    "def read_tweets(filename, _split=True):\n",
    "    X = {\"key\": [], \"text\": []}\n",
    "    with open(filename) as f:\n",
    "        lineno = 0\n",
    "        while True:\n",
    "            lineno += 1\n",
    "            if lineno % 50000 == 1:\n",
    "                print(\"*** lineno: {0}\".format(lineno))\n",
    "        \n",
    "            line = f.readline()\n",
    "            if line.startswith('RT'):\n",
    "                continue\n",
    "            \n",
    "            if len(line) == 0:\n",
    "                break\n",
    "                \n",
    "            d = read_one(line, _split)\n",
    "            X[\"key\"].append(d.get(\"key\", None))\n",
    "            X[\"text\"].append(d[\"text\"])\n",
    "        \n",
    "    df = pd.DataFrame(X)\n",
    "    return df\n",
    "\n",
    "\n",
    "def read_gutenberg(filename):\n",
    "    with open(filename) as f:\n",
    "        wlist = [line for line in f.readlines() if line[0] not in ('#', '\\n')]\n",
    "        return pd.DataFrame({\"text\": wlist})\n",
    "\n",
    "\n",
    "def normalize_and_tokenize(s):\n",
    "    s = s.lower()\n",
    "    s = re.sub(r\"\"\"\\|\\.|,|:|;|\\¡|\\!|\\¿|\\?|'|\"|…\"\"\", \" \", s, re.X)\n",
    "    return s.split()\n",
    "\n",
    "\n",
    "def count_voc(df):\n",
    "    full = Counter()\n",
    "    for x in df.text.values:\n",
    "        words = []\n",
    "        for w in normalize_and_tokenize(x):\n",
    "            words.append(w)\n",
    "\n",
    "        full.update(words)\n",
    "\n",
    "    return full\n",
    "\n",
    "\n",
    "def heaps(df):\n",
    "    vocab = set()\n",
    "    n = 0\n",
    "    \n",
    "    X = {\"vocab\": [], \"n\": []}\n",
    "    for x in df.text.values:\n",
    "        for w in normalize_and_tokenize(x):\n",
    "            vocab.add(w)\n",
    "        n += 1\n",
    "        X[\"vocab\"].append(len(vocab))\n",
    "        X[\"n\"].append(n)\n",
    "            \n",
    "\n",
    "    return pd.DataFrame(X)\n"
   ]
  },
  {
   "cell_type": "markdown",
   "metadata": {},
   "source": [
    "# Ley de Zipf\n",
    "<div style=\"text-align: right\">\n",
    "    Autores: Daniela Moctezuma, Mario Graff, Sabino Miranda, Eric S. Tellez\n",
    "</div>\n",
    "\n",
    "\n",
    "#### Es una ley de potencia que describe la distribución de un vobulario: unas pocas palabras son muy frecuentes y muchas palabras tienen pocas ocurrencias.\n",
    "\n",
    "$P(n) \\simeq \\frac{1}{n^\\alpha}$\n",
    "\n",
    "- Aplica para un lenguaje natural\n",
    "- $\\alpha$ tiende a una constante para cada lenguaje, e.g., para español es diferente que para inglés\n",
    "- ¿Qué pasa en textos con grandes cantidades de variantes léxicas?\n",
    "\n",
    "# Ejemplo para inglés"
   ]
  },
  {
   "cell_type": "code",
   "execution_count": 16,
   "metadata": {},
   "outputs": [
    {
     "data": {
      "text/plain": [
       "[<matplotlib.lines.Line2D at 0x1a268108d0>]"
      ]
     },
     "execution_count": 16,
     "metadata": {},
     "output_type": "execute_result"
    },
    {
     "data": {
      "image/png": "[encoded data removed]",
      "text/plain": [
       "<Figure size 432x288 with 1 Axes>"
      ]
     },
     "metadata": {
      "needs_background": "light"
     },
     "output_type": "display_data"
    }
   ],
   "source": [
    "C = read_gutenberg(\"moby.txt\")\n",
    "common = count_voc(C).most_common(10000)\n",
    "loglog([c[1] for c in common_cel])"
   ]
  },
  {
   "cell_type": "markdown",
   "metadata": {},
   "source": [
    "Notese que se esta gráficando en una escala log-log"
   ]
  },
  {
   "cell_type": "markdown",
   "metadata": {},
   "source": [
    "## Ejemplo para libros en español"
   ]
  },
  {
   "cell_type": "code",
   "execution_count": 13,
   "metadata": {},
   "outputs": [
    {
     "data": {
      "text/plain": [
       "[<matplotlib.lines.Line2D at 0x1a25591590>]"
      ]
     },
     "execution_count": 13,
     "metadata": {},
     "output_type": "execute_result"
    },
    {
     "data": {
      "image/png": "[encoded data removed]",
      "text/plain": [
       "<Figure size 432x288 with 1 Axes>"
      ]
     },
     "metadata": {
      "needs_background": "light"
     },
     "output_type": "display_data"
    }
   ],
   "source": [
    "C = read_gutenberg(\"celestina.txt\")\n",
    "common = count_voc(C).most_common(10000)\n",
    "loglog([c[1] for c in common_cel])"
   ]
  },
  {
   "cell_type": "markdown",
   "metadata": {},
   "source": [
    "## Calculando los parámetros de la distribución a partir de pequeña muestra de los datos"
   ]
  },
  {
   "cell_type": "code",
   "execution_count": 17,
   "metadata": {},
   "outputs": [
    {
     "name": "stdout",
     "output_type": "stream",
     "text": [
      "[    1     2     3 ...  9998  9999 10000]\n",
      "[14506  6704  6408 ...     2     2     2]\n",
      "[  -38.06640076 14506.00000321] [inf inf]\n"
     ]
    },
    {
     "name": "stderr",
     "output_type": "stream",
     "text": [
      "/Users/sadit/opt/anaconda3/lib/python3.7/site-packages/scipy/optimize/minpack.py:795: OptimizeWarning: Covariance of the parameters could not be estimated\n",
      "  category=OptimizeWarning)\n"
     ]
    },
    {
     "data": {
      "text/plain": [
       "[<matplotlib.lines.Line2D at 0x1a2706f0d0>]"
      ]
     },
     "execution_count": 17,
     "metadata": {},
     "output_type": "execute_result"
    },
    {
     "data": {
      "image/png": "[encoded data removed]",
      "text/plain": [
       "<Figure size 432x288 with 1 Axes>"
      ]
     },
     "metadata": {
      "needs_background": "light"
     },
     "output_type": "display_data"
    }
   ],
   "source": [
    "from scipy.optimize import curve_fit\n",
    "import numpy as np\n",
    "\n",
    "rank = np.array(range(1, len(common)+1))\n",
    "\n",
    "def zipf(rank, a, b):\n",
    "    p = b * (rank ** a)\n",
    "    return p\n",
    "\n",
    "freq = np.array([c[1] for c in common])\n",
    "#freq.shape = (1, -1)\n",
    "print(rank)\n",
    "print(freq)\n",
    "params, pcov = curve_fit(zipf, rank[:100], freq[:100])\n",
    "perr = np.sqrt(np.diag(pcov))\n",
    "print(params, perr)\n",
    "\n",
    "loglog(zipf(rank, *params))"
   ]
  },
  {
   "cell_type": "markdown",
   "metadata": {},
   "source": [
    "# Ley de Heaps\n",
    "Es una ley que describe como crece el vocabulario con respecto al tamaño del texto de entrada\n",
    "\n",
    "$\\sigma \\simeq n^\\beta$, $0 < \\beta < 1$\n",
    "\n",
    "## Ejemplo ley de Heaps en inglés"
   ]
  },
  {
   "cell_type": "code",
   "execution_count": 18,
   "metadata": {},
   "outputs": [
    {
     "data": {
      "text/plain": [
       "<matplotlib.axes._subplots.AxesSubplot at 0x1a264852d0>"
      ]
     },
     "execution_count": 18,
     "metadata": {},
     "output_type": "execute_result"
    },
    {
     "data": {
      "image/png": "[encoded data removed]",
      "text/plain": [
       "<Figure size 432x288 with 1 Axes>"
      ]
     },
     "metadata": {
      "needs_background": "light"
     },
     "output_type": "display_data"
    }
   ],
   "source": [
    "moby = read_gutenberg(\"moby.txt\")\n",
    "hmoby = heaps(moby)\n",
    "hmoby.plot(x='n', y='vocab')"
   ]
  },
  {
   "cell_type": "markdown",
   "metadata": {},
   "source": [
    "## Ejemplo ley de Heaps en español"
   ]
  },
  {
   "cell_type": "code",
   "execution_count": 19,
   "metadata": {},
   "outputs": [
    {
     "data": {
      "text/plain": [
       "<matplotlib.axes._subplots.AxesSubplot at 0x1a25480c50>"
      ]
     },
     "execution_count": 19,
     "metadata": {},
     "output_type": "execute_result"
    },
    {
     "data": {
      "image/png": "[encoded data removed]",
      "text/plain": [
       "<Figure size 432x288 with 1 Axes>"
      ]
     },
     "metadata": {
      "needs_background": "light"
     },
     "output_type": "display_data"
    }
   ],
   "source": [
    "hcel = heaps(C)\n",
    "hcel.plot(x='n', y='vocab')"
   ]
  },
  {
   "cell_type": "markdown",
   "metadata": {},
   "source": [
    "## Ejercicios\n",
    "\n",
    "Calcule los parametros de Zipf y Heaps, tanto para los libros `celistina.txt` como `moby.txt`; grafique"
   ]
  }
 ],
 "metadata": {
  "kernelspec": {
   "display_name": "Python 3",
   "language": "python",
   "name": "python3"
  },
  "language_info": {
   "codemirror_mode": {
    "name": "ipython",
    "version": 3
   },
   "file_extension": ".py",
   "mimetype": "text/x-python",
   "name": "python",
   "nbconvert_exporter": "python",
   "pygments_lexer": "ipython3",
   "version": "3.7.4"
  }
 },
 "nbformat": 4,
 "nbformat_minor": 4
}
