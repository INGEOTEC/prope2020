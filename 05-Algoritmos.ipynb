{
 "cells": [
  {
   "cell_type": "markdown",
   "metadata": {
    "slideshow": {
     "slide_type": "slide"
    }
   },
   "source": [
    "\n",
    "\n",
    "# Breve introducción al análisis de algoritmos #\n",
    "<div style=\"text-align: right\">\n",
    "    Autores: Daniela Moctezuma, Mario Graff, Sabino Miranda, Eric S. Tellez\n",
    "</div>\n",
    "\n",
    "- _Nota 1: Este notebook es un guión, por favor revise el material en el aula virtual_\n",
    "- _Nota 2: Realice los ejercicios propuestos al final de este notebook, esos no estan en el aula virtual_\n",
    "\n",
    "<hr/>\n",
    "Nos sirve para el costo o dificultad de un problema o algoritmo para con una entrada dada. También se le suele llamar *complejidad computacional*.\n",
    "\n",
    "Queremos medir la complejidad computacional para:\n",
    "\n",
    "- **Conocer** si es posible mejorar un algoritmo para un problema dado\n",
    "- **Decidir** que algoritmo nos conviene para una *clase* de entrada\n",
    "\n",
    "En general, lo que se pretende es **contar** los recursos necesarios para resolver un problema o para correr un algoritmo.\n",
    "Para esto debemos aislar la operación o recurso básico a contar ya que suele ser MUY complicado hacerlo para todos los recursos involucrados.\n",
    "A esto se le suele llamar **modelo de computación**.\n"
   ]
  },
  {
   "cell_type": "markdown",
   "metadata": {
    "slideshow": {
     "slide_type": "slide"
    }
   },
   "source": [
    "# Tipos de costo\n",
    "## Sobre a qué se aplica\n",
    "- Costo de un problema\n",
    "- Costo de un algoritmo\n",
    "- Costo dependiente de los datos:\n",
    "    - una clase bien caracterizada de instancias\n",
    "    - una instancia particular\n",
    "\n",
    "## Sobre cómo se calcula\n",
    "- Análisis de *mejor* y *peor* caso\n",
    "- Análisis promedio\n",
    "- Análisis amortizado"
   ]
  },
  {
   "cell_type": "markdown",
   "metadata": {
    "slideshow": {
     "slide_type": "slide"
    }
   },
   "source": [
    "## Costo computacional ##\n",
    "\n",
    "- *Enfoque analítico*: Consiste en crear un modelo analítico para *predecir cuanto nos costaría* aplicar un algoritmo a una entrada dada, sin tener que ejecutarlo. Ej.\n",
    "\n",
    "- *Enfoque experimental*: Mide directamente el desempeño de un algoritmo utilizando diferentes entradas. Ejemplo:\n",
    "  - Medir el tiempo real que se utiliza para completar una serie de corridas bien caracterizadas\n",
    "  - Medir la cantidad de memoria alojada por un proceso\n"
   ]
  },
  {
   "cell_type": "markdown",
   "metadata": {
    "slideshow": {
     "slide_type": "slide"
    }
   },
   "source": [
    "Recordemos que una mejorá de $k$ veces en el desempeño tiene efectos interesantes:\n",
    "\n",
    "- nos puede ahorrar en un factor $\\sim{k}$ veces en infraestructura y operación\n",
    "- nos puede permitir procesar $k$ veces más información en el mismo tiempo.\n",
    "\n",
    "El costo no siempre esta asociado directamente con el tiempo, también puede referirse a la memoria\n",
    "\n",
    "***\n",
    "*una mejora en la complejidad de un algoritmo puede significar tener la capacidad de manejar problemas más grandes o a más detalle.*\n",
    "***"
   ]
  },
  {
   "cell_type": "markdown",
   "metadata": {
    "slideshow": {
     "slide_type": "slide"
    }
   },
   "source": [
    "\n",
    "## Costo como función del tamaño de entrada ##\n",
    "Es muy común caracterizar un algoritmo utilizando el tamaño de la entrada, suele ser útil para costos de peor caso. Ej.\n",
    "\n",
    "\n",
    "## Costo como función de la distribución de los datos ##\n",
    "\n",
    "\n",
    "# Comparación\n",
    "## Notación asimptótica\n",
    "### $\\Theta(g(n))$\n",
    "Para una función dada $g(n)$ se denota $\\Theta(g(n))$ al conjunto de funciones<br/>\n",
    "$ \\Theta(g(n)) = \\{f(n): \\text{existen las constantes positivas } c_1, c_2, n_0 \\text{ tal que } 0 \\leq c_1 g(n) \\leq f(n) \\leq c_2 g(n) \\text{ para todo } n \\geq n_0 \\}$\n",
    "### $O(g(n))$\n",
    "Dada la función $g(n)$, $O(g(n))$ esta definida como el conjunto de funciones<br/>\n",
    "$ O(g(n)) = \\{f(n): \\text{existen las constantes positivas } c, n_0 \\text{ tal que } 0 \\leq f(n) \\leq c g(n) \\text{ para todo } n \\geq n_0 \\}$\n",
    "\n",
    "### $\\Omega(g(n))$\n",
    "Dada la función $g(n)$, $\\Omega(g(n))$ esta definida como el conjunto de funciones<br/>\n",
    "$\\Omega(g(n)) = \\{f(n): \\text{existen las constantes positivas } c, n_0 \\text{ tal que } 0 \\leq c g(n) \\leq f(n) \\text{ para todo } n \\geq n_0 \\}$\n",
    "\n",
    "## Notación asimptótica no _ajustada_\n",
    "Tanto $O$ como $\\Omega$ describen conjuntos de funciones que pueden estar ajustados o no a $g(n)$ de manera asimptótica. Cuando es necesario describir costos donde no hay posibilidad que $f(n)$ se _acerque_ a $g(n)$ después de cierto $n_0$ se suelen utilizar las siguientes variantes:\n",
    "\n",
    "- $o(g(n)) = \\{f(n): \\text{para todas las constantes positivas } c > 0 \\text{, existe una constante }n_0 > 0 \\text{ tal que } 0 \\leq f(n) \\leq c g(n) \\text{ para todo } n \\geq n_0 \\}$\n",
    "- $\\omega(g(n)) = \\{f(n): \\text{para todas las constantes positivas } c > 0 \\text{, existe una constante }n_0 > 0 \\text{ tal que } 0 \\leq c g(n) \\leq f(n) \\text{ para todo } n \\geq n_0 \\}$\n"
   ]
  },
  {
   "cell_type": "markdown",
   "metadata": {},
   "source": [
    "# Ejercicios\n",
    "\n",
    "1. Implemente los siguientes algoritmos:\n",
    "\n",
    " - Insertion-sort\n",
    " - Bubble-sort\n",
    " - Merge-sort\n",
    " - Heap-sort\n",
    "\n",
    "2. Compare el desempeño de los 4 algoritmos. Considere el tamaño de arreglo $n$, genere arreglos de números con las siguientes propiedades:\n",
    "\n",
    "- Un arreglo ordenado $A_O$\n",
    "- Tomando el arreglo ordenado, intercambie de manera aleatoria:\n",
    "   - $n/10$ pares, $A_{10}$\n",
    "   - $n/30$ pares, $A_{30}$\n",
    "   - $n/100$ pares, $A_{100}$\n",
    "  \n",
    "Para los tamaños $n=10^4, 10^5, 10^6$, compare el desempeño de los 4 algoritmos de ordenamiento sobre los 4 tipos de arreglos ($A_O, A_{10}, A_{30}$, y $A_{100}$). "
   ]
  },
  {
   "cell_type": "code",
   "execution_count": null,
   "metadata": {},
   "outputs": [],
   "source": []
  }
 ],
 "metadata": {
  "celltoolbar": "Slideshow",
  "kernelspec": {
   "display_name": "Python 3",
   "language": "python",
   "name": "python3"
  },
  "language_info": {
   "codemirror_mode": {
    "name": "ipython",
    "version": 3
   },
   "file_extension": ".py",
   "mimetype": "text/x-python",
   "name": "python",
   "nbconvert_exporter": "python",
   "pygments_lexer": "ipython3",
   "version": "3.7.4"
  }
 },
 "nbformat": 4,
 "nbformat_minor": 4
}
