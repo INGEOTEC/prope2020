{
 "cells": [
  {
   "cell_type": "markdown",
   "metadata": {},
   "source": [
    "Nota: se requiere revisar el material referente a Python y los videos de Algoritmos y Estructuras de Datos\n",
    "# Estructura de datos: Diccionarios\n",
    "<div style=\"text-align: right\">\n",
    "    Autores: Daniela Moctezuma, Mario Graff, Sabino Miranda, Eric S. Tellez\n",
    "</div>\n"
   ]
  },
  {
   "cell_type": "markdown",
   "metadata": {},
   "source": [
    "Los diccionarios en Python estan implementados como tablas hash.\n",
    "\n",
    "Como se vió en notebooks anteriores, la sintaxis es mediante llaves y `:`, así como también mediante la función `dict`."
   ]
  },
  {
   "cell_type": "code",
   "execution_count": 30,
   "metadata": {},
   "outputs": [
    {
     "name": "stdout",
     "output_type": "stream",
     "text": [
      "{'nombre': 'Juan', 'edad': 22, 'numeros': [1, 2, 3]}\n",
      "{'nombre': 'Pedro', 'edad': 28}\n"
     ]
    }
   ],
   "source": [
    "d = {'nombre' : 'Juan', 'edad' : 22, 'numeros':[1,2,3]}\n",
    "print(d)\n",
    "\n",
    "d2 = dict(nombre='Pedro', edad=28)\n",
    "print(d2)"
   ]
  },
  {
   "cell_type": "markdown",
   "metadata": {},
   "source": [
    "Internamente, el interprete de Python creará una tabla hash, asociando la llave con su valor."
   ]
  },
  {
   "cell_type": "markdown",
   "metadata": {},
   "source": [
    "# Recuperar valores\n",
    "Para acceder a los valores asociados a cada llave, el procedimiento es acceder, claro esta, por medio de la llave. El primer paso es determinar la posición o celda dentro de la tabla hash donde se encuentra o debe encontrarse el par llave-valor. Para esto, se aplica la función `hash` a la llave, la cual mapea dicha llave a un número entero. Esta función es determinista, i.e., para una misma llave siempre regresará el mismo valor, y para asegurar el desempeño, la distribución de ese valor no esta asociado con la distribución misma de los datos. En general, el hash puede ser un número muy largo, e incluso negativo, por lo que debe mapearse a una celda válida en la tabla hash (diccionario); éste último mapeo puede ser tan simple como el residuo de la división del valor hash entre el tamaño de la tabla o una transformación lineal para encontrar el índice en la tabla; y la estrategía precisa dependerá de las características de los valores mapeados. La esperanza es que cada celda en la tabla tenga ningún o un número constante (y pequeño) de valores asignados. Con esto también podemos inferir que se siempre se requerirá una tabla con muchas más celdas que datos asignados."
   ]
  },
  {
   "cell_type": "code",
   "execution_count": 31,
   "metadata": {},
   "outputs": [
    {
     "name": "stdout",
     "output_type": "stream",
     "text": [
      "Pedro\n"
     ]
    }
   ],
   "source": [
    "print(d2[\"nombre\"])"
   ]
  },
  {
   "cell_type": "markdown",
   "metadata": {},
   "source": [
    "### La función `hash` se puede aplicar sobre valores inmutables y los mapeará a un entero, y ese valor de entero es poco probable que aparezca para otras llaves diferentes."
   ]
  },
  {
   "cell_type": "code",
   "execution_count": 7,
   "metadata": {},
   "outputs": [
    {
     "name": "stdout",
     "output_type": "stream",
     "text": [
      "hash-edad-literal: -3081781475738642763\n",
      "hash-edad-variable: -3081781475738642763\n",
      "hash-edad1: 1831229893451462569\n"
     ]
    }
   ],
   "source": [
    "edadvar = \"edad\"\n",
    "edadvar1 = \"edad1\"\n",
    "print(\"hash-edad-literal: {}\\nhash-edad-variable: {}\".format(hash('edad'),\n",
    "                                                             hash(edadvar))\n"
   ]
  },
  {
   "cell_type": "markdown",
   "metadata": {},
   "source": [
    "### Aun los datos con pequeñas variaciones deberían ser mapeados a diferentes enteros, e incluso sin realación entre ellos"
   ]
  },
  {
   "cell_type": "code",
   "execution_count": 11,
   "metadata": {},
   "outputs": [
    {
     "name": "stdout",
     "output_type": "stream",
     "text": [
      "hash-edad1: 3098178432403470540\n",
      "hash-edad2: 5131371003110901477\n"
     ]
    }
   ],
   "source": [
    "edadvar1 = \"1111111111111edad\"\n",
    "edadvar2 = \"1111111111111edad0\"\n",
    "print(\"hash-edad1: {}\\nhash-edad2: {}\".format(hash(edadvar1), hash(edadvar2)))"
   ]
  },
  {
   "cell_type": "markdown",
   "metadata": {},
   "source": [
    "## Asignar valores\n",
    "Al asignar valores, se ejecuta la función `hash` sobre la llave; y se coloca en la posición indicada (después de pasarlo a un índice valido en la tabla); es posible que la tabla tenga que crecer si la llave no existía. Hayq que tener en cuenta que si hay colisiones, es decir, que otras llaves diferentes sean mapeados a la misma celda de la tabla hash, entonces se debe aplicar algún mecánismo de solución de la colisión."
   ]
  },
  {
   "cell_type": "code",
   "execution_count": 17,
   "metadata": {},
   "outputs": [
    {
     "name": "stdout",
     "output_type": "stream",
     "text": [
      "{'nombre': 'Juan', 'edad': 22}\n",
      "{'nombre': 'Juan', 'edad': 25}\n",
      "{'nombre': 'Juan', 'edad': 25, 'nacionalidad': 'MX'}\n"
     ]
    }
   ],
   "source": [
    "d = {'nombre' : 'Juan', 'edad' : 22}\n",
    "print(d)\n",
    "d[\"edad\"] = 25\n",
    "print(d)\n",
    "d[\"nacionalidad\"] = \"MX\"\n",
    "print(d)"
   ]
  },
  {
   "cell_type": "markdown",
   "metadata": {},
   "source": [
    "## Borrar pares-valor\n",
    "\n",
    "Para borrar una entrada en la tabla hash, primero se debe determinar en que posición se encuentra dicho valor, para esto internamente se aplica la función `hash` y se mapea a una celda valida, luego si existe se procederá a borrar la referencia del par llave-valor. Es posible que la tabla se reduzca de tamaño."
   ]
  },
  {
   "cell_type": "code",
   "execution_count": 19,
   "metadata": {},
   "outputs": [
    {
     "name": "stdout",
     "output_type": "stream",
     "text": [
      "{'nombre': 'Juan', 'edad': 25, 'nacionalidad': 'MX'}\n",
      "{'nombre': 'Juan', 'nacionalidad': 'MX'}\n"
     ]
    }
   ],
   "source": [
    "print(d)\n",
    "del d['edad']\n",
    "print(d)"
   ]
  },
  {
   "cell_type": "markdown",
   "metadata": {},
   "source": [
    "# Membresía\n",
    "Verificar si una llave existe dentro del diccionario es muy similar a un acceso a los datos, sin embargo, solo contestará con un valor booleano en lugar de acceder a los datos."
   ]
  },
  {
   "cell_type": "code",
   "execution_count": 171,
   "metadata": {},
   "outputs": [
    {
     "data": {
      "text/plain": [
       "False"
      ]
     },
     "execution_count": 171,
     "metadata": {},
     "output_type": "execute_result"
    }
   ],
   "source": [
    "'f' in d4"
   ]
  },
  {
   "cell_type": "markdown",
   "metadata": {},
   "source": [
    "# Conteo\n",
    "\n",
    "Los diccionarios son una estructura fundamental en Python, y habrá muchas tareas que se pueden resolver con ellos.\n",
    "\n",
    "Por ejemplo, la ocurrencia de cada cáracter en un texto se puede contar como sigue:"
   ]
  },
  {
   "cell_type": "code",
   "execution_count": 27,
   "metadata": {},
   "outputs": [
    {
     "name": "stdout",
     "output_type": "stream",
     "text": [
      "{'H': 1, 'o': 5, 'l': 2, 'a': 2, ' ': 3, 'm': 1, 'u': 1, 'n': 1, 'd': 2, 'h': 1, 't': 1, 's': 1}\n",
      "['H', 'o', 'l', 'a', ' ', 'm', 'u', 'n', 'd', 'h', 't', 's']\n",
      "[1, 5, 2, 2, 3, 1, 1, 1, 2, 1, 1, 1]\n"
     ]
    }
   ],
   "source": [
    "s = \"Hola mundo hola todos\"\n",
    "dat={}\n",
    "for c in s:\n",
    "    if c in dat:\n",
    "        dat[c] = dat[c] + 1\n",
    "    else:\n",
    "        dat[c] = 1\n",
    "\n",
    "print(dat)\n",
    "print(list(dat.keys()))\n",
    "print(list(dat.values()))"
   ]
  },
  {
   "cell_type": "markdown",
   "metadata": {},
   "source": [
    "### Por ejemplo, en el paquete `collections` se encuentran los contadores, que adicionalmente tienen otras funciones asociadas"
   ]
  },
  {
   "cell_type": "code",
   "execution_count": 29,
   "metadata": {},
   "outputs": [
    {
     "name": "stdout",
     "output_type": "stream",
     "text": [
      "Counter({'o': 5, ' ': 3, 'l': 2, 'a': 2, 'd': 2, 'H': 1, 'm': 1, 'u': 1, 'n': 1, 'h': 1, 't': 1, 's': 1})\n",
      "[('o', 5), (' ', 3), ('l', 2)]\n"
     ]
    }
   ],
   "source": [
    "from collections import Counter\n",
    "cnt = Counter(s)\n",
    "print(cnt)\n",
    "print(cnt.most_common(3))"
   ]
  },
  {
   "cell_type": "markdown",
   "metadata": {},
   "source": [
    "### Podemos graficar las frecuencias como un histograma"
   ]
  },
  {
   "cell_type": "code",
   "execution_count": 24,
   "metadata": {},
   "outputs": [
    {
     "name": "stdout",
     "output_type": "stream",
     "text": [
      "['H', 'o', 'l', 'a', ' ', 'm', 'u', 'n', 'd', 'h', 't', 's'] [1, 5, 2, 2, 3, 1, 1, 1, 2, 1, 1, 1]\n"
     ]
    },
    {
     "data": {
      "text/plain": [
       "<BarContainer object of 12 artists>"
      ]
     },
     "execution_count": 24,
     "metadata": {},
     "output_type": "execute_result"
    },
    {
     "data": {
      "image/png": "[encoded data removed]",
      "text/plain": [
       "<Figure size 432x288 with 1 Axes>"
      ]
     },
     "metadata": {
      "needs_background": "light"
     },
     "output_type": "display_data"
    }
   ],
   "source": [
    "%matplotlib inline\n",
    "import matplotlib.pyplot as plt\n",
    "\n",
    "k=list(dat.keys())\n",
    "v=list(dat.values())\n",
    "print(k,v)\n",
    "x_pos = [i for i, _ in enumerate(k)]\n",
    "plt.xticks(x_pos, k)\n",
    "plt.bar(x_pos, v, align='center')\n"
   ]
  },
  {
   "cell_type": "markdown",
   "metadata": {},
   "source": [
    "# Conjuntos: set\n",
    "Un conjunto se representa como un diccionario sin valor asociado, esto quiere decir que funciona por medio de la función `hash` y que cualquier valor _hasheable_ puede ser utilizado en el diccionario."
   ]
  },
  {
   "cell_type": "code",
   "execution_count": 34,
   "metadata": {},
   "outputs": [
    {
     "name": "stdout",
     "output_type": "stream",
     "text": [
      "A: {3, '4', '1', 'b', 'c', 'aaa', 'a'}\n",
      "B: {3, '1', '5', 'c', 'aa', 'bb', 'a'}\n"
     ]
    }
   ],
   "source": [
    "A = set(['aaa', '1', 'b', 3, '4', 'c', 'a','a','a']) # inicializando desde una colección\n",
    "B = set(['aa', '1', 'bb', 3, '5', 'c', 'a'])\n",
    "print(\"A:\", A)\n",
    "print(\"B:\", B)"
   ]
  },
  {
   "cell_type": "markdown",
   "metadata": {},
   "source": [
    "### Recordando, al igual que los diccionarios, los conjuntos no soportan valores duplicados"
   ]
  },
  {
   "cell_type": "code",
   "execution_count": 36,
   "metadata": {},
   "outputs": [
    {
     "name": "stdout",
     "output_type": "stream",
     "text": [
      "{'i', ' ', 'n', 'l', 'v', 't', 'a'}\n"
     ]
    }
   ],
   "source": [
    "AA = set(\"anita lava la tina\")\n",
    "print(AA)"
   ]
  },
  {
   "cell_type": "markdown",
   "metadata": {},
   "source": [
    "### Los conjuntos soportan operaciones de unión e intersección eficientes; la eficiencia viene del uso de tablas hash en la implementación."
   ]
  },
  {
   "cell_type": "code",
   "execution_count": 44,
   "metadata": {},
   "outputs": [
    {
     "name": "stdout",
     "output_type": "stream",
     "text": [
      "unión: {3, '4', '1', '5', 'b', 'c', 'aa', 'aaa', 'bb', 'a'}\n",
      "intersección: {'1', 'c', 3, 'a'}\n",
      "diferencia: {'aaa', 'b', '4'}\n",
      "membresía aa in {3, '4', '1', 'b', 'c', 'aaa', 'a'}: False\n",
      "membresía aa in {3, '1', '5', 'c', 'aa', 'bb', 'a'}: True\n"
     ]
    }
   ],
   "source": [
    "print(\"unión:\", A.union(B))\n",
    "print(\"intersección:\", A.intersection(B))\n",
    "print(\"diferencia:\", A.difference(B))\n",
    "print(\"membresía {} in {}: {}\".format('aa', A, 'aa' in A))\n",
    "print(\"membresía {} in {}: {}\".format('aa', B, 'aa' in B))"
   ]
  },
  {
   "cell_type": "markdown",
   "metadata": {},
   "source": [
    "# Uso de estructuras para cálculo de similitudes\n",
    "\n",
    "Existen muchos algoritmos para análisis de datos que útilizan el concepto de función de similitud, esto es, de funciones que miden que tanto se parecen dos objetos entre sí. A continuación veremos como se pueden implementar algunas funciones de similitud utilizando las estructuras que se han visto."
   ]
  },
  {
   "cell_type": "markdown",
   "metadata": {},
   "source": [
    "### Coeficiente de Jaccard \n",
    "$$J(A,B) = \\frac{|A \\cap B|}{|A \\cup  B|}$$"
   ]
  },
  {
   "cell_type": "code",
   "execution_count": 54,
   "metadata": {},
   "outputs": [
    {
     "name": "stdout",
     "output_type": "stream",
     "text": [
      "0.42857142857142855\n",
      "1.0\n",
      "0.25\n"
     ]
    }
   ],
   "source": [
    "def jaccard(A, B):\n",
    "    tI=len(A.intersection(B))\n",
    "    tU=len(A.union(B))\n",
    "    return tI/tU\n",
    "\n",
    "print(jaccard(set(\"casuchas\"), set(\"casitas\")))\n",
    "print(jaccard(set(\"casuchas\"), set(\"casuchas\")))\n",
    "print(jaccard(set(\"casuchas\"), set(\"cartera\")))"
   ]
  },
  {
   "cell_type": "markdown",
   "metadata": {},
   "source": [
    "### Coeficiente de Dice \n",
    " $$D(A,B) =  \\frac{ 2 \\times |A \\cap B|}{|A| + |B|}$$"
   ]
  },
  {
   "cell_type": "code",
   "execution_count": 53,
   "metadata": {},
   "outputs": [
    {
     "name": "stdout",
     "output_type": "stream",
     "text": [
      "0.3\n",
      "0.5\n",
      "0.2\n"
     ]
    }
   ],
   "source": [
    "def dice(A, B):\n",
    "    tI=len(A.intersection(B))\n",
    "    tU=len(A.union(B))\n",
    "    return tI/(len(A) + len(B))\n",
    "\n",
    "print(dice(set(\"casuchas\"), set(\"casitas\")))\n",
    "print(dice(set(\"casuchas\"), set(\"casuchas\")))\n",
    "print(dice(set(\"casuchas\"), set(\"cartera\")))"
   ]
  },
  {
   "cell_type": "markdown",
   "metadata": {},
   "source": [
    "# Analizando el vocabulario de algunos libros del proyecto Gutenberg\n",
    "El análisis de colecciones de documentos no estructurados es una de las tareas de la ciencia de datos; en particular, una tarea relacionada con procesamiento de lenguaje natural.\n",
    "Como ejemplo, se utilizarán libros del proyecto [Gutenberg](http://www.gutenberg.org).\n",
    "\n",
    "Lectura del texto en memoria:"
   ]
  },
  {
   "cell_type": "code",
   "execution_count": 55,
   "metadata": {},
   "outputs": [
    {
     "data": {
      "text/plain": [
       "['# The Project Gutenberg Etext of La Celestina by Fernando de Rojas\\n', '\\n']"
      ]
     },
     "execution_count": 55,
     "metadata": {},
     "output_type": "execute_result"
    }
   ],
   "source": [
    "with open(\"celestina.txt\", 'r', encoding='utf8') as f:\n",
    "    text = f.readlines()\n",
    "    f.close()\n",
    "\n",
    "text[:2]"
   ]
  },
  {
   "cell_type": "markdown",
   "metadata": {},
   "source": [
    "## Preprocesamiento de los datos\n",
    "Una etapa fundamental para el análisis es el preprocesamiento, que es un tratamiento a los datos para prepararlos como entradas a métodos más complejos."
   ]
  },
  {
   "cell_type": "code",
   "execution_count": 56,
   "metadata": {},
   "outputs": [
    {
     "data": {
      "text/plain": [
       "[['LA', 'CELESTINA'], ['por'], ['Fernando', 'de', 'Rojas']]"
      ]
     },
     "execution_count": 56,
     "metadata": {},
     "output_type": "execute_result"
    }
   ],
   "source": [
    "# remover lineas vacias\n",
    "text2=[]\n",
    "with open(\"celestina.txt\", 'r', encoding='utf8') as f:\n",
    "    for l in f.readlines():\n",
    "        if not l.strip():\n",
    "            continue\n",
    "        if l.strip().startswith('#'):\n",
    "                continue\n",
    "        text2.append(l.strip().split())\n",
    "    f.close()\n",
    "\n",
    "text2[:3]"
   ]
  },
  {
   "cell_type": "markdown",
   "metadata": {},
   "source": [
    "## Distribución de los símbolos y conteo de términos\n",
    "La distribución de los símbolos es una propiedad de un texto que se puede obtenre de la siguiente forma:\n"
   ]
  },
  {
   "cell_type": "code",
   "execution_count": 61,
   "metadata": {},
   "outputs": [
    {
     "name": "stdout",
     "output_type": "stream",
     "text": [
      "['l', 'a', 'c', 'e', 'l', 'e', 's', 't', 'i', 'n']\n",
      "[('e', 68311), ('a', 62239), ('o', 44359), ('s', 38267), ('r', 34445), ('n', 30541), ('i', 28738), ('l', 23434), ('u', 23431), ('d', 22706)]\n"
     ]
    }
   ],
   "source": [
    "from collections import Counter\n",
    "tt=[]\n",
    "for t in text2:\n",
    "    for w in t:\n",
    "        for c in w:\n",
    "            tt.extend(c.lower())\n",
    "\n",
    "print(tt[:10])        \n",
    "di=Counter(tt)\n",
    "print(di.most_common(10))"
   ]
  },
  {
   "cell_type": "markdown",
   "metadata": {},
   "source": [
    "### Histograma de los símbolos en _La Celestina_"
   ]
  },
  {
   "cell_type": "code",
   "execution_count": 62,
   "metadata": {},
   "outputs": [
    {
     "data": {
      "text/plain": [
       "<BarContainer object of 54 artists>"
      ]
     },
     "execution_count": 62,
     "metadata": {},
     "output_type": "execute_result"
    },
    {
     "data": {
      "image/png": "[encoded data removed]",
      "text/plain": [
       "<Figure size 432x288 with 1 Axes>"
      ]
     },
     "metadata": {
      "needs_background": "light"
     },
     "output_type": "display_data"
    }
   ],
   "source": [
    "%matplotlib inline\n",
    "import matplotlib.pyplot as plt\n",
    "\n",
    "k = sorted(di.items(), key=lambda x: x[-1], reverse=True)\n",
    "v = [_[-1] for _ in k]\n",
    "k = [_[0] for _ in k]\n",
    "x_pos = [i for i, _ in enumerate(k)]\n",
    "plt.xticks(x_pos, k)\n",
    "plt.bar(x_pos, v, align='center')"
   ]
  },
  {
   "cell_type": "markdown",
   "metadata": {},
   "source": [
    "## Términos más frecuentes\n",
    "El vocabulario de un texto, palabras, se puede generar como sigue:"
   ]
  },
  {
   "cell_type": "code",
   "execution_count": 64,
   "metadata": {},
   "outputs": [
    {
     "data": {
      "text/plain": [
       "[['LA', 'CELESTINA'], ['por']]"
      ]
     },
     "execution_count": 64,
     "metadata": {},
     "output_type": "execute_result"
    }
   ],
   "source": [
    "text2=[]\n",
    "with open(\"celestina.txt\", 'r', encoding='utf8') as f:\n",
    "    for l in f.readlines():\n",
    "        if not l.strip():\n",
    "            continue\n",
    "        if l.strip().startswith('#'):\n",
    "                continue\n",
    "        text2.append(l.strip().split())\n",
    "    f.close()\n",
    "    \n",
    "text2[0:2]"
   ]
  },
  {
   "cell_type": "code",
   "execution_count": 76,
   "metadata": {},
   "outputs": [
    {
     "data": {
      "text/plain": [
       "[('que', 4228),\n",
       " ('de', 4130),\n",
       " ('****', 4022),\n",
       " ('e', 2251),\n",
       " ('la', 2201),\n",
       " ('en', 1832),\n",
       " ('a', 1743),\n",
       " ('el', 1545),\n",
       " ('no', 1524),\n",
       " ('por', 1022),\n",
       " ('con', 992),\n",
       " ('se', 911),\n",
       " ('mi', 886),\n",
       " ('me', 866),\n",
       " ('los', 856),\n",
       " ('lo', 788),\n",
       " ('es', 761),\n",
       " ('su', 715),\n",
       " ('y', 687),\n",
       " ('tu', 681),\n",
       " ('las', 670),\n",
       " ('mas', 605),\n",
       " ('te', 552),\n",
       " ('como', 541),\n",
       " ('o', 534),\n",
       " ('/', 516),\n",
       " ('para', 515),\n",
       " ('si', 466),\n",
       " ('del', 430),\n",
       " ('yo', 409)]"
      ]
     },
     "execution_count": 76,
     "metadata": {},
     "output_type": "execute_result"
    }
   ],
   "source": [
    "### from collections import Counter\n",
    "tt=[]\n",
    "for t in text2:\n",
    "    for w in t:\n",
    "        tt.append(w.lower())\n",
    "            \n",
    "di=Counter(tt)\n",
    "di.most_common(30)"
   ]
  },
  {
   "cell_type": "code",
   "execution_count": 87,
   "metadata": {},
   "outputs": [],
   "source": [
    "### Graficando los 50 términos más comunes"
   ]
  },
  {
   "cell_type": "code",
   "execution_count": 86,
   "metadata": {},
   "outputs": [
    {
     "data": {
      "text/plain": [
       "<BarContainer object of 50 artists>"
      ]
     },
     "execution_count": 86,
     "metadata": {},
     "output_type": "execute_result"
    },
    {
     "data": {
      "image/png": "[encoded data removed]",
      "text/plain": [
       "<Figure size 432x288 with 1 Axes>"
      ]
     },
     "metadata": {
      "needs_background": "light"
     },
     "output_type": "display_data"
    }
   ],
   "source": [
    "k = di.most_common(50)\n",
    "v = [_[-1] for _ in k]\n",
    "k = [_[0] for _ in k]\n",
    "x_pos = [i for i, _ in enumerate(k)]\n",
    "plt.xticks(x_pos, k, rotation=45)\n",
    "plt.bar(x_pos, v, align='center')"
   ]
  },
  {
   "cell_type": "code",
   "execution_count": 280,
   "metadata": {},
   "outputs": [
    {
     "data": {
      "text/plain": [
       "'vudu'"
      ]
     },
     "execution_count": 280,
     "metadata": {},
     "output_type": "execute_result"
    }
   ],
   "source": [
    "s1=\"vudú\"\n",
    "s1.replace('ú','u')"
   ]
  },
  {
   "cell_type": "markdown",
   "metadata": {},
   "source": [
    "# Ejercicios\n",
    "- Calcular el vocabulario del libro _Moby Dick_ (archivo `moby.txt`).\n",
    "- Graficar las 1000 palabras más frecuentes.\n",
    "- Calcular y graficar el histograma de las palabras por su longitud."
   ]
  }
 ],
 "metadata": {
  "kernelspec": {
   "display_name": "Python 3",
   "language": "python",
   "name": "python3"
  },
  "language_info": {
   "codemirror_mode": {
    "name": "ipython",
    "version": 3
   },
   "file_extension": ".py",
   "mimetype": "text/x-python",
   "name": "python",
   "nbconvert_exporter": "python",
   "pygments_lexer": "ipython3",
   "version": "3.7.4"
  }
 },
 "nbformat": 4,
 "nbformat_minor": 4
}
