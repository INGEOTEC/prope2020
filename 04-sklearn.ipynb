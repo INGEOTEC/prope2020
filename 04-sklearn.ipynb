{
 "cells": [
  {
   "cell_type": "markdown",
   "metadata": {
    "deletable": true,
    "editable": true,
    "slideshow": {
     "slide_type": "slide"
    }
   },
   "source": [
    "\n",
    "<img src=\"https://scikit-learn.org/stable/_static/scikit-learn-logo-small.png\" />\n",
    "\n",
    "# TutorialScikit learn (Sklearn)\n",
    "\n",
    "<div style=\"text-align: right\">\n",
    "   Autores: Daniela Moctezuma, Mario Graff, Sabino Miranda, Eric S. Tellez\n",
    "</div>\n",
    "\n",
    "# Introducción\n",
    "Es una biblioteca de código abierto con una gran variedad de métodos de aprendizaje computacional. Es parte fundamental del ecosistema de Ciencia de Datos para Python.\n",
    "\n",
    "Para mostrar este tema se utilizarán los datos del titanic, pero con las variables categóricas codificadas."
   ]
  },
  {
   "cell_type": "code",
   "execution_count": 90,
   "metadata": {
    "collapsed": false,
    "deletable": true,
    "editable": true,
    "jupyter": {
     "outputs_hidden": false
    },
    "scrolled": true,
    "slideshow": {
     "slide_type": "slide"
    }
   },
   "outputs": [],
   "source": [
    "import pandas as pd\n",
    "%matplotlib inline\n",
    "from sklearn.model_selection import train_test_split\n",
    "data_train = pd.read_csv('Titanic_codificado_train.csv') \n",
    "data_test = pd.read_csv('Titanic_codificado_test.csv')\n",
    "\n",
    "X_all = data_train.drop(['Survived', 'PassengerId'], axis=1)\n",
    "y_all = data_train['Survived']\n",
    "\n",
    "\n",
    "num_test = 0.20\n",
    "X_train, X_test, y_train, y_test = train_test_split(X_all, y_all, test_size=num_test, random_state=23)\n"
   ]
  },
  {
   "cell_type": "code",
   "execution_count": 2,
   "metadata": {
    "collapsed": false,
    "deletable": true,
    "editable": true,
    "jupyter": {
     "outputs_hidden": false
    }
   },
   "outputs": [
    {
     "data": {
      "text/html": [
       "<div>\n",
       "<style scoped>\n",
       "    .dataframe tbody tr th:only-of-type {\n",
       "        vertical-align: middle;\n",
       "    }\n",
       "\n",
       "    .dataframe tbody tr th {\n",
       "        vertical-align: top;\n",
       "    }\n",
       "\n",
       "    .dataframe thead th {\n",
       "        text-align: right;\n",
       "    }\n",
       "</style>\n",
       "<table border=\"1\" class=\"dataframe\">\n",
       "  <thead>\n",
       "    <tr style=\"text-align: right;\">\n",
       "      <th></th>\n",
       "      <th>Unnamed: 0</th>\n",
       "      <th>PassengerId</th>\n",
       "      <th>Survived</th>\n",
       "      <th>Pclass</th>\n",
       "      <th>Sex</th>\n",
       "      <th>Age</th>\n",
       "      <th>SibSp</th>\n",
       "      <th>Parch</th>\n",
       "      <th>Fare</th>\n",
       "      <th>Cabin</th>\n",
       "      <th>Lname</th>\n",
       "      <th>NamePrefix</th>\n",
       "    </tr>\n",
       "  </thead>\n",
       "  <tbody>\n",
       "    <tr>\n",
       "      <td>0</td>\n",
       "      <td>0</td>\n",
       "      <td>1</td>\n",
       "      <td>0</td>\n",
       "      <td>3</td>\n",
       "      <td>1</td>\n",
       "      <td>4</td>\n",
       "      <td>1</td>\n",
       "      <td>0</td>\n",
       "      <td>0</td>\n",
       "      <td>7</td>\n",
       "      <td>100</td>\n",
       "      <td>19</td>\n",
       "    </tr>\n",
       "    <tr>\n",
       "      <td>1</td>\n",
       "      <td>1</td>\n",
       "      <td>2</td>\n",
       "      <td>1</td>\n",
       "      <td>1</td>\n",
       "      <td>0</td>\n",
       "      <td>0</td>\n",
       "      <td>1</td>\n",
       "      <td>0</td>\n",
       "      <td>3</td>\n",
       "      <td>2</td>\n",
       "      <td>182</td>\n",
       "      <td>20</td>\n",
       "    </tr>\n",
       "    <tr>\n",
       "      <td>2</td>\n",
       "      <td>2</td>\n",
       "      <td>3</td>\n",
       "      <td>1</td>\n",
       "      <td>3</td>\n",
       "      <td>0</td>\n",
       "      <td>7</td>\n",
       "      <td>0</td>\n",
       "      <td>0</td>\n",
       "      <td>0</td>\n",
       "      <td>7</td>\n",
       "      <td>329</td>\n",
       "      <td>16</td>\n",
       "    </tr>\n",
       "    <tr>\n",
       "      <td>3</td>\n",
       "      <td>3</td>\n",
       "      <td>4</td>\n",
       "      <td>1</td>\n",
       "      <td>1</td>\n",
       "      <td>0</td>\n",
       "      <td>7</td>\n",
       "      <td>1</td>\n",
       "      <td>0</td>\n",
       "      <td>3</td>\n",
       "      <td>2</td>\n",
       "      <td>267</td>\n",
       "      <td>20</td>\n",
       "    </tr>\n",
       "    <tr>\n",
       "      <td>4</td>\n",
       "      <td>4</td>\n",
       "      <td>5</td>\n",
       "      <td>0</td>\n",
       "      <td>3</td>\n",
       "      <td>1</td>\n",
       "      <td>7</td>\n",
       "      <td>0</td>\n",
       "      <td>0</td>\n",
       "      <td>1</td>\n",
       "      <td>7</td>\n",
       "      <td>15</td>\n",
       "      <td>19</td>\n",
       "    </tr>\n",
       "  </tbody>\n",
       "</table>\n",
       "</div>"
      ],
      "text/plain": [
       "   Unnamed: 0  PassengerId  Survived  Pclass  Sex  Age  SibSp  Parch  Fare  \\\n",
       "0           0            1         0       3    1    4      1      0     0   \n",
       "1           1            2         1       1    0    0      1      0     3   \n",
       "2           2            3         1       3    0    7      0      0     0   \n",
       "3           3            4         1       1    0    7      1      0     3   \n",
       "4           4            5         0       3    1    7      0      0     1   \n",
       "\n",
       "   Cabin  Lname  NamePrefix  \n",
       "0      7    100          19  \n",
       "1      2    182          20  \n",
       "2      7    329          16  \n",
       "3      2    267          20  \n",
       "4      7     15          19  "
      ]
     },
     "execution_count": 2,
     "metadata": {},
     "output_type": "execute_result"
    }
   ],
   "source": [
    "data_train.head()"
   ]
  },
  {
   "cell_type": "markdown",
   "metadata": {},
   "source": [
    "### Suele ser muy útil ver como se distribuyen las variables; con pandas podemos hacerlo facilmente"
   ]
  },
  {
   "cell_type": "code",
   "execution_count": 67,
   "metadata": {
    "collapsed": false,
    "deletable": true,
    "editable": true,
    "jupyter": {
     "outputs_hidden": false
    }
   },
   "outputs": [
    {
     "data": {
      "text/plain": [
       "<matplotlib.axes._subplots.AxesSubplot at 0x1a26bc9c10>"
      ]
     },
     "execution_count": 67,
     "metadata": {},
     "output_type": "execute_result"
    },
    {
     "data": {
      "image/png": "[encoded data removed]",
      "text/plain": [
       "<Figure size 432x288 with 1 Axes>"
      ]
     },
     "metadata": {
      "needs_background": "light"
     },
     "output_type": "display_data"
    }
   ],
   "source": [
    "X_train['Age'].plot.hist()"
   ]
  },
  {
   "cell_type": "markdown",
   "metadata": {},
   "source": [
    "### Versiones suavisadas también son muy útiles"
   ]
  },
  {
   "cell_type": "code",
   "execution_count": 68,
   "metadata": {},
   "outputs": [
    {
     "data": {
      "text/plain": [
       "<matplotlib.axes._subplots.AxesSubplot at 0x1a26c11950>"
      ]
     },
     "execution_count": 68,
     "metadata": {},
     "output_type": "execute_result"
    },
    {
     "data": {
      "image/png": "[encoded data removed]",
      "text/plain": [
       "<Figure size 432x288 with 1 Axes>"
      ]
     },
     "metadata": {
      "needs_background": "light"
     },
     "output_type": "display_data"
    }
   ],
   "source": [
    "X_train['Age'].plot.kde()"
   ]
  },
  {
   "cell_type": "markdown",
   "metadata": {
    "deletable": true,
    "editable": true,
    "jupyter": {
     "outputs_hidden": false
    }
   },
   "source": [
    "### Correlación entre variables"
   ]
  },
  {
   "cell_type": "code",
   "execution_count": 69,
   "metadata": {},
   "outputs": [
    {
     "data": {
      "text/html": [
       "<div>\n",
       "<style scoped>\n",
       "    .dataframe tbody tr th:only-of-type {\n",
       "        vertical-align: middle;\n",
       "    }\n",
       "\n",
       "    .dataframe tbody tr th {\n",
       "        vertical-align: top;\n",
       "    }\n",
       "\n",
       "    .dataframe thead th {\n",
       "        text-align: right;\n",
       "    }\n",
       "</style>\n",
       "<table border=\"1\" class=\"dataframe\">\n",
       "  <thead>\n",
       "    <tr style=\"text-align: right;\">\n",
       "      <th></th>\n",
       "      <th>Unnamed: 0</th>\n",
       "      <th>Pclass</th>\n",
       "      <th>Sex</th>\n",
       "      <th>Age</th>\n",
       "      <th>SibSp</th>\n",
       "      <th>Parch</th>\n",
       "      <th>Fare</th>\n",
       "      <th>Cabin</th>\n",
       "      <th>Lname</th>\n",
       "      <th>NamePrefix</th>\n",
       "    </tr>\n",
       "  </thead>\n",
       "  <tbody>\n",
       "    <tr>\n",
       "      <td>Unnamed: 0</td>\n",
       "      <td>1.000000</td>\n",
       "      <td>-0.002035</td>\n",
       "      <td>0.038855</td>\n",
       "      <td>0.015617</td>\n",
       "      <td>-0.034268</td>\n",
       "      <td>0.030797</td>\n",
       "      <td>-0.019620</td>\n",
       "      <td>-0.013237</td>\n",
       "      <td>-0.046251</td>\n",
       "      <td>-0.001153</td>\n",
       "    </tr>\n",
       "    <tr>\n",
       "      <td>Pclass</td>\n",
       "      <td>-0.002035</td>\n",
       "      <td>1.000000</td>\n",
       "      <td>0.128124</td>\n",
       "      <td>0.215222</td>\n",
       "      <td>0.092372</td>\n",
       "      <td>0.017221</td>\n",
       "      <td>-0.655222</td>\n",
       "      <td>0.741710</td>\n",
       "      <td>0.037036</td>\n",
       "      <td>0.026667</td>\n",
       "    </tr>\n",
       "    <tr>\n",
       "      <td>Sex</td>\n",
       "      <td>0.038855</td>\n",
       "      <td>0.128124</td>\n",
       "      <td>1.000000</td>\n",
       "      <td>0.047191</td>\n",
       "      <td>-0.123788</td>\n",
       "      <td>-0.263530</td>\n",
       "      <td>-0.196519</td>\n",
       "      <td>0.112505</td>\n",
       "      <td>0.043922</td>\n",
       "      <td>0.146023</td>\n",
       "    </tr>\n",
       "    <tr>\n",
       "      <td>Age</td>\n",
       "      <td>0.015617</td>\n",
       "      <td>0.215222</td>\n",
       "      <td>0.047191</td>\n",
       "      <td>1.000000</td>\n",
       "      <td>-0.072395</td>\n",
       "      <td>-0.229829</td>\n",
       "      <td>-0.236930</td>\n",
       "      <td>0.183752</td>\n",
       "      <td>0.061667</td>\n",
       "      <td>0.191360</td>\n",
       "    </tr>\n",
       "    <tr>\n",
       "      <td>SibSp</td>\n",
       "      <td>-0.034268</td>\n",
       "      <td>0.092372</td>\n",
       "      <td>-0.123788</td>\n",
       "      <td>-0.072395</td>\n",
       "      <td>1.000000</td>\n",
       "      <td>0.409810</td>\n",
       "      <td>0.351411</td>\n",
       "      <td>0.042893</td>\n",
       "      <td>-0.013290</td>\n",
       "      <td>-0.190468</td>\n",
       "    </tr>\n",
       "    <tr>\n",
       "      <td>Parch</td>\n",
       "      <td>0.030797</td>\n",
       "      <td>0.017221</td>\n",
       "      <td>-0.263530</td>\n",
       "      <td>-0.229829</td>\n",
       "      <td>0.409810</td>\n",
       "      <td>1.000000</td>\n",
       "      <td>0.366818</td>\n",
       "      <td>-0.023749</td>\n",
       "      <td>-0.051012</td>\n",
       "      <td>-0.148811</td>\n",
       "    </tr>\n",
       "    <tr>\n",
       "      <td>Fare</td>\n",
       "      <td>-0.019620</td>\n",
       "      <td>-0.655222</td>\n",
       "      <td>-0.196519</td>\n",
       "      <td>-0.236930</td>\n",
       "      <td>0.351411</td>\n",
       "      <td>0.366818</td>\n",
       "      <td>1.000000</td>\n",
       "      <td>-0.511658</td>\n",
       "      <td>-0.056268</td>\n",
       "      <td>-0.093821</td>\n",
       "    </tr>\n",
       "    <tr>\n",
       "      <td>Cabin</td>\n",
       "      <td>-0.013237</td>\n",
       "      <td>0.741710</td>\n",
       "      <td>0.112505</td>\n",
       "      <td>0.183752</td>\n",
       "      <td>0.042893</td>\n",
       "      <td>-0.023749</td>\n",
       "      <td>-0.511658</td>\n",
       "      <td>1.000000</td>\n",
       "      <td>0.051257</td>\n",
       "      <td>0.073990</td>\n",
       "    </tr>\n",
       "    <tr>\n",
       "      <td>Lname</td>\n",
       "      <td>-0.046251</td>\n",
       "      <td>0.037036</td>\n",
       "      <td>0.043922</td>\n",
       "      <td>0.061667</td>\n",
       "      <td>-0.013290</td>\n",
       "      <td>-0.051012</td>\n",
       "      <td>-0.056268</td>\n",
       "      <td>0.051257</td>\n",
       "      <td>1.000000</td>\n",
       "      <td>-0.028609</td>\n",
       "    </tr>\n",
       "    <tr>\n",
       "      <td>NamePrefix</td>\n",
       "      <td>-0.001153</td>\n",
       "      <td>0.026667</td>\n",
       "      <td>0.146023</td>\n",
       "      <td>0.191360</td>\n",
       "      <td>-0.190468</td>\n",
       "      <td>-0.148811</td>\n",
       "      <td>-0.093821</td>\n",
       "      <td>0.073990</td>\n",
       "      <td>-0.028609</td>\n",
       "      <td>1.000000</td>\n",
       "    </tr>\n",
       "  </tbody>\n",
       "</table>\n",
       "</div>"
      ],
      "text/plain": [
       "            Unnamed: 0    Pclass       Sex       Age     SibSp     Parch  \\\n",
       "Unnamed: 0    1.000000 -0.002035  0.038855  0.015617 -0.034268  0.030797   \n",
       "Pclass       -0.002035  1.000000  0.128124  0.215222  0.092372  0.017221   \n",
       "Sex           0.038855  0.128124  1.000000  0.047191 -0.123788 -0.263530   \n",
       "Age           0.015617  0.215222  0.047191  1.000000 -0.072395 -0.229829   \n",
       "SibSp        -0.034268  0.092372 -0.123788 -0.072395  1.000000  0.409810   \n",
       "Parch         0.030797  0.017221 -0.263530 -0.229829  0.409810  1.000000   \n",
       "Fare         -0.019620 -0.655222 -0.196519 -0.236930  0.351411  0.366818   \n",
       "Cabin        -0.013237  0.741710  0.112505  0.183752  0.042893 -0.023749   \n",
       "Lname        -0.046251  0.037036  0.043922  0.061667 -0.013290 -0.051012   \n",
       "NamePrefix   -0.001153  0.026667  0.146023  0.191360 -0.190468 -0.148811   \n",
       "\n",
       "                Fare     Cabin     Lname  NamePrefix  \n",
       "Unnamed: 0 -0.019620 -0.013237 -0.046251   -0.001153  \n",
       "Pclass     -0.655222  0.741710  0.037036    0.026667  \n",
       "Sex        -0.196519  0.112505  0.043922    0.146023  \n",
       "Age        -0.236930  0.183752  0.061667    0.191360  \n",
       "SibSp       0.351411  0.042893 -0.013290   -0.190468  \n",
       "Parch       0.366818 -0.023749 -0.051012   -0.148811  \n",
       "Fare        1.000000 -0.511658 -0.056268   -0.093821  \n",
       "Cabin      -0.511658  1.000000  0.051257    0.073990  \n",
       "Lname      -0.056268  0.051257  1.000000   -0.028609  \n",
       "NamePrefix -0.093821  0.073990 -0.028609    1.000000  "
      ]
     },
     "execution_count": 69,
     "metadata": {},
     "output_type": "execute_result"
    }
   ],
   "source": [
    "X_train.corr()"
   ]
  },
  {
   "cell_type": "markdown",
   "metadata": {},
   "source": [
    "### Gráficamente"
   ]
  },
  {
   "cell_type": "code",
   "execution_count": 70,
   "metadata": {},
   "outputs": [
    {
     "data": {
      "text/plain": [
       "<matplotlib.image.AxesImage at 0x1a26f57cd0>"
      ]
     },
     "execution_count": 70,
     "metadata": {},
     "output_type": "execute_result"
    },
    {
     "data": {
      "image/png": "[encoded data removed]",
      "text/plain": [
       "<Figure size 288x288 with 1 Axes>"
      ]
     },
     "metadata": {
      "needs_background": "light"
     },
     "output_type": "display_data"
    }
   ],
   "source": [
    "from matplotlib import pyplot as plt\n",
    "plt.matshow(X_train.corr())"
   ]
  },
  {
   "cell_type": "markdown",
   "metadata": {
    "deletable": true,
    "editable": true,
    "slideshow": {
     "slide_type": "slide"
    }
   },
   "source": [
    "# Clustering"
   ]
  },
  {
   "cell_type": "markdown",
   "metadata": {
    "deletable": true,
    "editable": true,
    "slideshow": {
     "slide_type": "slide"
    }
   },
   "source": [
    "La tarea de  agrupamiento (conocida comunmente como _clustering_) consiste en encontrar grupos cuyos elementos tengan algo en común; y por tanto, nos permiten aprender particularidades, muchas veces por medio de visualizaciones.\n",
    "\n",
    "Desde el punto de vista del un usuario de los métodos, existen dos tipos de algoritmos de agrupamiento que son muy utilizados:\n",
    "- Aquellos donde al aplicarlos se obtiene un conjunto pequeño que representa el comportamiento general del conjunto de datos\n",
    "- Aquellos donde al aplicarlos se obtiene la relación de densidad del conjunto de datos, o dicho de otra forma, una _fuerza de enlace_ entre sub-grupos.\n",
    "\n",
    "Esta notebook nos enfocaremos en los primeros, y en particular, en el que probablemente es el más utilizado de los algoritmos de clustering, dado su alto desempeño: k-Means."
   ]
  },
  {
   "cell_type": "markdown",
   "metadata": {
    "deletable": true,
    "editable": true,
    "slideshow": {
     "slide_type": "slide"
    }
   },
   "source": [
    "## Algoritmos de clustering más utilizados  \n",
    "- k-Means\n",
    "- Mapas autoorganizados\n",
    "- Nearest Neighborhood  "
   ]
  },
  {
   "cell_type": "markdown",
   "metadata": {
    "deletable": true,
    "editable": true,
    "slideshow": {
     "slide_type": "slide"
    }
   },
   "source": [
    "## k-Means\n",
    "\n",
    "- Aprendizaje no supevisado\n",
    "- Técnica de agrupamiento con diversos parámetros\n",
    "    - Número de clusters\n",
    "    - Criterio de paro\n",
    "    - Valores iniciales (semillas, normalmente se deja con selección aleatoria)\n",
    "    \n"
   ]
  },
  {
   "cell_type": "markdown",
   "metadata": {
    "deletable": true,
    "editable": true,
    "slideshow": {
     "slide_type": "slide"
    }
   },
   "source": [
    "### Sketch del algoritmo k-Means\n",
    "\n",
    "1. Toma como parámetro inicial el número de k, que es el número de clusters a generar\n",
    "2. Selecciona k elementos de forma aleatoria, estos elementos son los centroides de cada cluster\n",
    "3. A cada objeto (diferente de los centroides) se le asigna el cluster al que se parece más, esto en base a la distancia entre el objeto y el centroide (o media del cluster).\n",
    "4. Se calcula el nuevo valor del centroide\n",
    "5. Se itera del paso 3 al 4 hasta que no haya cambios en los valores de los centroides u otro criterio de paro.\n"
   ]
  },
  {
   "cell_type": "markdown",
   "metadata": {
    "deletable": true,
    "editable": true,
    "slideshow": {
     "slide_type": "slide"
    }
   },
   "source": [
    "## Medición de la similitud\n",
    "\n",
    "- Normalmente se utiliza una medida basada en el error cuadrático o la distancia Euclidiana\n",
    "\n",
    "$$ SSE = \\sum^k_{i=1} \\sum_{p \\in C_i} || p - m_i ||^2$$\n",
    "\n",
    "donde $m_i$ es el centroide del cluster $C_i$, y $k$ clusters.\n",
    "\n",
    "- Distancia Euclideana para vectores $d$-dimensionales.\n",
    "\n",
    "$$|| u - v || = \\sqrt{\\sum^d_i (u_i - v_i)^2 }$$\n"
   ]
  },
  {
   "cell_type": "code",
   "execution_count": 71,
   "metadata": {
    "collapsed": false,
    "deletable": true,
    "editable": true,
    "jupyter": {
     "outputs_hidden": false
    }
   },
   "outputs": [
    {
     "data": {
      "image/png": "[encoded data removed]",
      "text/plain": [
       "<Figure size 432x288 with 1 Axes>"
      ]
     },
     "metadata": {
      "needs_background": "light"
     },
     "output_type": "display_data"
    }
   ],
   "source": [
    "#Aquí creamos datos sintéticos para observar en un plot sus muestras y sus centroides.\n",
    "import matplotlib.pyplot as plt\n",
    "from sklearn.datasets.samples_generator import make_blobs\n",
    "X, y_true = make_blobs(n_samples=300, centers=4, cluster_std=0.60, random_state=0)\n",
    "plt.scatter(X[:, 0], X[:, 1], s=50);\n",
    "\n",
    "from sklearn.cluster import KMeans\n",
    "kmeans = KMeans(n_clusters=4)\n",
    "kmeans.fit(X)\n",
    "y_kmeans = kmeans.predict(X)\n",
    "\n",
    "plt.scatter(X[:, 0], X[:, 1], c=y_kmeans, s=50, cmap='viridis')\n",
    "\n",
    "centers = kmeans.cluster_centers_\n",
    "plt.scatter(centers[:, 0], centers[:, 1], c='black', s=200, alpha=0.5);"
   ]
  },
  {
   "cell_type": "code",
   "execution_count": 72,
   "metadata": {
    "deletable": true,
    "editable": true
   },
   "outputs": [],
   "source": [
    "#Aqui entrenamos un kmeans con los datos del titanic\n",
    "kmeans_titanic = KMeans(n_clusters=2, random_state=0).fit(X_train)\n",
    "#predecimos en test\n",
    "kmeans_predicted = kmeans_titanic.predict(X_test)\n",
    "#predecimos en train\n",
    "kmeans_predicted_ = kmeans_titanic.predict(X_train)"
   ]
  },
  {
   "cell_type": "markdown",
   "metadata": {},
   "source": [
    "### Exploración por variable"
   ]
  },
  {
   "cell_type": "code",
   "execution_count": 73,
   "metadata": {
    "collapsed": false,
    "deletable": true,
    "editable": true,
    "jupyter": {
     "outputs_hidden": false
    }
   },
   "outputs": [],
   "source": [
    "import numpy as np\n",
    "#Aqui solo pasamos un dataframe a otro tipo de dato de array de numpy\n",
    "X_train_ = np.array(X_train)"
   ]
  },
  {
   "cell_type": "code",
   "execution_count": 74,
   "metadata": {
    "collapsed": false,
    "deletable": true,
    "editable": true,
    "jupyter": {
     "outputs_hidden": false
    }
   },
   "outputs": [
    {
     "data": {
      "image/png": "[encoded data removed]",
      "text/plain": [
       "<Figure size 432x288 with 1 Axes>"
      ]
     },
     "metadata": {
      "needs_background": "light"
     },
     "output_type": "display_data"
    }
   ],
   "source": [
    "#Se plotea solo las variables 9 y 7\n",
    "plt.scatter(X_train_[:, 9], X_train_[:, 7], s=50);\n"
   ]
  },
  {
   "cell_type": "code",
   "execution_count": 38,
   "metadata": {
    "collapsed": false,
    "deletable": true,
    "editable": true,
    "jupyter": {
     "outputs_hidden": false
    }
   },
   "outputs": [
    {
     "data": {
      "image/png": "[encoded data removed]",
      "text/plain": [
       "<Figure size 432x288 with 1 Axes>"
      ]
     },
     "metadata": {
      "needs_background": "light"
     },
     "output_type": "display_data"
    }
   ],
   "source": [
    "#graficamos los datos del kmeans con los dos centroides calculados, los datos son solo de las variables \n",
    "# 9 y 7, pero se entrenó con todas las variables por eso los centroides se ven muy alejados de los puntos.\n",
    "from sklearn.cluster import KMeans\n",
    "kmeans = KMeans(n_clusters=2)\n",
    "kmeans.fit(X_train)\n",
    "y_kmeans = kmeans.predict(X_train)\n",
    "\n",
    "plt.scatter(X_train_[:, 9], X_train_[:, 7], c=y_kmeans, s=50, cmap='viridis')\n",
    "\n",
    "centers = kmeans.cluster_centers_\n",
    "plt.scatter(centers[:, 0], centers[:, 1], c='black', s=200, alpha=0.5);"
   ]
  },
  {
   "cell_type": "code",
   "execution_count": 39,
   "metadata": {
    "collapsed": false,
    "deletable": true,
    "editable": true,
    "jupyter": {
     "outputs_hidden": false
    }
   },
   "outputs": [
    {
     "data": {
      "text/html": [
       "<div>\n",
       "<style scoped>\n",
       "    .dataframe tbody tr th:only-of-type {\n",
       "        vertical-align: middle;\n",
       "    }\n",
       "\n",
       "    .dataframe tbody tr th {\n",
       "        vertical-align: top;\n",
       "    }\n",
       "\n",
       "    .dataframe thead th {\n",
       "        text-align: right;\n",
       "    }\n",
       "</style>\n",
       "<table border=\"1\" class=\"dataframe\">\n",
       "  <thead>\n",
       "    <tr style=\"text-align: right;\">\n",
       "      <th></th>\n",
       "      <th>Unnamed: 0</th>\n",
       "      <th>Pclass</th>\n",
       "      <th>Sex</th>\n",
       "      <th>Age</th>\n",
       "      <th>SibSp</th>\n",
       "      <th>Parch</th>\n",
       "      <th>Fare</th>\n",
       "      <th>Cabin</th>\n",
       "      <th>Lname</th>\n",
       "      <th>NamePrefix</th>\n",
       "    </tr>\n",
       "  </thead>\n",
       "  <tbody>\n",
       "    <tr>\n",
       "      <td>0</td>\n",
       "      <td>0</td>\n",
       "      <td>3</td>\n",
       "      <td>1</td>\n",
       "      <td>4</td>\n",
       "      <td>1</td>\n",
       "      <td>0</td>\n",
       "      <td>0</td>\n",
       "      <td>7</td>\n",
       "      <td>100</td>\n",
       "      <td>19</td>\n",
       "    </tr>\n",
       "    <tr>\n",
       "      <td>1</td>\n",
       "      <td>1</td>\n",
       "      <td>1</td>\n",
       "      <td>0</td>\n",
       "      <td>0</td>\n",
       "      <td>1</td>\n",
       "      <td>0</td>\n",
       "      <td>3</td>\n",
       "      <td>2</td>\n",
       "      <td>182</td>\n",
       "      <td>20</td>\n",
       "    </tr>\n",
       "    <tr>\n",
       "      <td>2</td>\n",
       "      <td>2</td>\n",
       "      <td>3</td>\n",
       "      <td>0</td>\n",
       "      <td>7</td>\n",
       "      <td>0</td>\n",
       "      <td>0</td>\n",
       "      <td>0</td>\n",
       "      <td>7</td>\n",
       "      <td>329</td>\n",
       "      <td>16</td>\n",
       "    </tr>\n",
       "    <tr>\n",
       "      <td>3</td>\n",
       "      <td>3</td>\n",
       "      <td>1</td>\n",
       "      <td>0</td>\n",
       "      <td>7</td>\n",
       "      <td>1</td>\n",
       "      <td>0</td>\n",
       "      <td>3</td>\n",
       "      <td>2</td>\n",
       "      <td>267</td>\n",
       "      <td>20</td>\n",
       "    </tr>\n",
       "    <tr>\n",
       "      <td>4</td>\n",
       "      <td>4</td>\n",
       "      <td>3</td>\n",
       "      <td>1</td>\n",
       "      <td>7</td>\n",
       "      <td>0</td>\n",
       "      <td>0</td>\n",
       "      <td>1</td>\n",
       "      <td>7</td>\n",
       "      <td>15</td>\n",
       "      <td>19</td>\n",
       "    </tr>\n",
       "  </tbody>\n",
       "</table>\n",
       "</div>"
      ],
      "text/plain": [
       "   Unnamed: 0  Pclass  Sex  Age  SibSp  Parch  Fare  Cabin  Lname  NamePrefix\n",
       "0           0       3    1    4      1      0     0      7    100          19\n",
       "1           1       1    0    0      1      0     3      2    182          20\n",
       "2           2       3    0    7      0      0     0      7    329          16\n",
       "3           3       1    0    7      1      0     3      2    267          20\n",
       "4           4       3    1    7      0      0     1      7     15          19"
      ]
     },
     "execution_count": 39,
     "metadata": {},
     "output_type": "execute_result"
    }
   ],
   "source": [
    "X_all.head()"
   ]
  },
  {
   "cell_type": "code",
   "execution_count": 40,
   "metadata": {
    "deletable": true,
    "editable": true
   },
   "outputs": [],
   "source": [
    "X_ = data_train[['Cabin','NamePrefix']]\n",
    "y_ = data_train['Survived']\n",
    "\n",
    "num_test = 0.20\n",
    "X_train, X_test, y_train, y_test = train_test_split(X_all, y_all, test_size=num_test, random_state=23)"
   ]
  },
  {
   "cell_type": "code",
   "execution_count": 41,
   "metadata": {
    "collapsed": false,
    "deletable": true,
    "editable": true,
    "jupyter": {
     "outputs_hidden": false
    }
   },
   "outputs": [
    {
     "data": {
      "image/png": "[encoded data removed]",
      "text/plain": [
       "<Figure size 432x288 with 1 Axes>"
      ]
     },
     "metadata": {
      "needs_background": "light"
     },
     "output_type": "display_data"
    }
   ],
   "source": [
    "#Se vuelve a entrenar el k-means solo con los valores de las variables 9 y 7.\n",
    "\n",
    "from sklearn.cluster import KMeans\n",
    "kmeans = KMeans(n_clusters=2)\n",
    "kmeans.fit(X_train)\n",
    "y_kmeans = kmeans.predict(X_train)\n",
    "\n",
    "plt.scatter(X_train_[:, 0], X_train_[:, 1], c=y_kmeans, s=50, cmap='viridis')\n",
    "\n",
    "centers = kmeans.cluster_centers_\n",
    "plt.scatter(centers[:, 0], centers[:, 1], c='black', s=200, alpha=0.5);\n",
    "# Ahora vemos como los centroides se paran realmente las dos clases, la negra y la amarilla."
   ]
  },
  {
   "cell_type": "markdown",
   "metadata": {},
   "source": [
    "### Visualización con PCA"
   ]
  },
  {
   "cell_type": "code",
   "execution_count": 115,
   "metadata": {},
   "outputs": [
    {
     "data": {
      "text/plain": [
       "<matplotlib.axes._subplots.AxesSubplot at 0x1a25b4d7d0>"
      ]
     },
     "execution_count": 115,
     "metadata": {},
     "output_type": "execute_result"
    },
    {
     "data": {
      "image/png": "[encoded data removed]",
      "text/plain": [
       "<Figure size 432x288 with 2 Axes>"
      ]
     },
     "metadata": {
      "needs_background": "light"
     },
     "output_type": "display_data"
    }
   ],
   "source": [
    "from sklearn.decomposition import PCA\n",
    "pca = PCA(n_components=2)\n",
    "labels = X_train.Pclass\n",
    "X_train_ = X_train.drop('Pclass', axis=1)\n",
    "X = pd.DataFrame(data=pca.fit_transform(X_train_), columns=[\"a\", \"b\"])\n",
    "X[\"labels\"] = labels.values\n",
    "X.plot.scatter(x=\"a\", y=\"b\", c=\"labels\", s=30)"
   ]
  },
  {
   "cell_type": "markdown",
   "metadata": {
    "deletable": true,
    "editable": true,
    "slideshow": {
     "slide_type": "slide"
    }
   },
   "source": [
    "# Ejercicios\n",
    "- Cree un notebook de Jupyter\n",
    "- Use pandas para leer el conjunto de datos `Titanic_codificado_train.csv`\n",
    "- Use KMeans para generar un análisis de clusters\n",
    "- Cree dos figuras, usando la transformación PCA\n",
    "    - En la primera ponga colores diferentes a cada cluster de kmeans\n",
    "    - En la segunda ponga colores diferentes a cada clase (indicada como Pclass en el dataset)\n"
   ]
  }
 ],
 "metadata": {
  "anaconda-cloud": {},
  "celltoolbar": "Slideshow",
  "kernelspec": {
   "display_name": "Python 3",
   "language": "python",
   "name": "python3"
  },
  "language_info": {
   "codemirror_mode": {
    "name": "ipython",
    "version": 3
   },
   "file_extension": ".py",
   "mimetype": "text/x-python",
   "name": "python",
   "nbconvert_exporter": "python",
   "pygments_lexer": "ipython3",
   "version": "3.7.4"
  }
 },
 "nbformat": 4,
 "nbformat_minor": 4
}
