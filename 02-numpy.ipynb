{
 "cells": [
  {
   "cell_type": "markdown",
   "metadata": {},
   "source": [
    "<div style=\"text-align: left;\">\n",
    "    <img src=\"https://numpy.org/_static/numpy_logo.png\" alt=\"numpy logo\"/>\n",
    "    </div>\n",
    "\n",
    "# Tutorial Numeric Python - numpy\n",
    "\n",
    "<div style=\"text-align: right;\">\n",
    "    Autores: Daniela Moctezuma, Mario Graff, Sabino Miranda, Eric S. Tellez\n",
    "</div>"
   ]
  },
  {
   "cell_type": "markdown",
   "metadata": {},
   "source": [
    "* Manejo de arreglos multidimensionales\n",
    "* Integración con librerías en C y C++\n",
    "* Librerías de algebra lineal, transformada de fourier y generadores de números aletarorios"
   ]
  },
  {
   "cell_type": "markdown",
   "metadata": {},
   "source": [
    "### Para usar numpy se deben de importar el paquete; por convención, se utiliza el alias _np_ en lugar de _numpy_"
   ]
  },
  {
   "cell_type": "code",
   "execution_count": 1,
   "metadata": {},
   "outputs": [],
   "source": [
    "import numpy as np"
   ]
  },
  {
   "cell_type": "markdown",
   "metadata": {},
   "source": [
    "# Arreglos\n",
    "\n",
    "Así como las listas, los arreglos de numpy inician en $0$\n",
    "\n",
    "* $\\mathbf x = [3, 4, 5, 7]$\n",
    "* $\\mathbf x_0 = 3$\n",
    "* $\\mathbf x_2 = 5$"
   ]
  },
  {
   "cell_type": "code",
   "execution_count": 2,
   "metadata": {},
   "outputs": [
    {
     "name": "stdout",
     "output_type": "stream",
     "text": [
      "3\n",
      "5\n",
      "32\n"
     ]
    },
    {
     "data": {
      "text/plain": [
       "[3, 4, 5, 7, 32, 'un elemento']"
      ]
     },
     "execution_count": 2,
     "metadata": {},
     "output_type": "execute_result"
    }
   ],
   "source": [
    "lst = [3, 4, 5, 7]\n",
    "print(lst[0])\n",
    "print(lst[2])\n",
    "lst.append(32)\n",
    "print(lst[-1])\n",
    "lst.append('un elemento')\n",
    "lst"
   ]
  },
  {
   "cell_type": "markdown",
   "metadata": {},
   "source": [
    "* Lo anterior son listas no arreglos\n",
    "\n",
    "### ¿Por qué usar NumPy?\n",
    "\n",
    "Porque los objetos en Python son muy ineficientes para computo científico, y requieren paquetes externos como `numpy` para paliar dicho problema en el desempeño.\n",
    "\n",
    "Existen arreglos numéricos en Python, que ya guardan de manera eficiente arreglos de tipo homogeneo."
   ]
  },
  {
   "cell_type": "code",
   "execution_count": 14,
   "metadata": {},
   "outputs": [
    {
     "name": "stdout",
     "output_type": "stream",
     "text": [
      "[3, 4, 5, 7, 32, 'un elemento']\n",
      "TYPE ERROR must be real number, not str\n"
     ]
    },
    {
     "data": {
      "text/plain": [
       "array('d', [3.0, 4.0, 5.0, 7.0, 32.0])"
      ]
     },
     "execution_count": 14,
     "metadata": {},
     "output_type": "execute_result"
    }
   ],
   "source": [
    "import array\n",
    "print(lst)\n",
    "\n",
    "try:\n",
    "    ar = array.array('d', lst)\n",
    "except TypeError as err:\n",
    "    # los datos deben ser de tipo homogeneo (y 'd' indica que son números de punto flotante de doble precisión)\n",
    "    print(\"TYPE ERROR\", err)\n",
    "\n",
    "lst.pop()\n",
    "array.array('d', lst)"
   ]
  },
  {
   "cell_type": "markdown",
   "metadata": {},
   "source": [
    "### Sin embargo, numpy puede manejar arreglos multidimensionales y tiene una gran variedad de operaciones matemáticas implementadas de manera muy eficiente."
   ]
  },
  {
   "cell_type": "code",
   "execution_count": 15,
   "metadata": {},
   "outputs": [
    {
     "name": "stdout",
     "output_type": "stream",
     "text": [
      "[10  3  4  5  7]\n"
     ]
    }
   ],
   "source": [
    "ar = np.array([10, 3, 4, 5, 7])\n",
    "print(ar)"
   ]
  },
  {
   "cell_type": "markdown",
   "metadata": {},
   "source": [
    "## Un breve recorrido por funciones de numpy"
   ]
  },
  {
   "cell_type": "markdown",
   "metadata": {},
   "source": [
    "#### Mínimo"
   ]
  },
  {
   "cell_type": "code",
   "execution_count": 17,
   "metadata": {},
   "outputs": [
    {
     "data": {
      "text/plain": [
       "(3, 3)"
      ]
     },
     "execution_count": 17,
     "metadata": {},
     "output_type": "execute_result"
    }
   ],
   "source": [
    "ar.min()\n",
    "lst = [10, 3, 4, 5, 7]\n",
    "min(lst), ar.min()"
   ]
  },
  {
   "cell_type": "markdown",
   "metadata": {},
   "source": [
    "#### Máximo"
   ]
  },
  {
   "cell_type": "code",
   "execution_count": 18,
   "metadata": {},
   "outputs": [
    {
     "data": {
      "text/plain": [
       "10"
      ]
     },
     "execution_count": 18,
     "metadata": {},
     "output_type": "execute_result"
    }
   ],
   "source": [
    "ar.max()"
   ]
  },
  {
   "cell_type": "markdown",
   "metadata": {},
   "source": [
    "## Elementos únicos\n",
    "#### Generar un problema simple de elementos únicos"
   ]
  },
  {
   "cell_type": "code",
   "execution_count": 19,
   "metadata": {},
   "outputs": [],
   "source": [
    "import random\n",
    "lst = [random.randint(0, 3) for _ in range(100)]"
   ]
  },
  {
   "cell_type": "markdown",
   "metadata": {},
   "source": [
    "* ¿Cuáles son los eleméntos únicos?  \n",
    "son [0, 1, 2, 3]\n",
    "* ¿Cuántos de cada uno?"
   ]
  },
  {
   "cell_type": "code",
   "execution_count": 22,
   "metadata": {},
   "outputs": [
    {
     "data": {
      "text/plain": [
       "Counter({1: 23, 0: 20, 2: 30, 3: 27})"
      ]
     },
     "execution_count": 22,
     "metadata": {},
     "output_type": "execute_result"
    }
   ],
   "source": [
    "import collections\n",
    "ar = np.array(lst)\n",
    "np.unique(ar, return_counts=True)\n",
    "collections.Counter(lst)"
   ]
  },
  {
   "cell_type": "markdown",
   "metadata": {},
   "source": [
    "## Ordenar"
   ]
  },
  {
   "cell_type": "markdown",
   "metadata": {},
   "source": [
    "#### Generar un problema"
   ]
  },
  {
   "cell_type": "code",
   "execution_count": 35,
   "metadata": {},
   "outputs": [
    {
     "name": "stdout",
     "output_type": "stream",
     "text": [
      "[0.72729662 0.75349944 0.81651901 0.01867029 0.72110041 0.51887622\n",
      " 0.14947528 0.95034523 0.54689082 0.23816038 0.68155567 0.22648235\n",
      " 0.90758111 0.86264896 0.1308884  0.60636702 0.92403365 0.35364028\n",
      " 0.08219798 0.43745505 0.61055796 0.69045626 0.0984521  0.88199718\n",
      " 0.09062555 0.05958364 0.36428687 0.94449612 0.76114577 0.10069666]\n",
      "[0.01867029 0.05958364 0.08219798 0.09062555 0.0984521  0.10069666\n",
      " 0.1308884  0.14947528 0.22648235 0.23816038 0.35364028 0.36428687\n",
      " 0.43745505 0.51887622 0.54689082 0.60636702 0.61055796 0.68155567\n",
      " 0.69045626 0.72110041 0.72729662 0.75349944 0.76114577 0.81651901\n",
      " 0.86264896 0.88199718 0.90758111 0.92403365 0.94449612 0.95034523]\n"
     ]
    }
   ],
   "source": [
    "ar = np.random.rand(30)\n",
    "print(ar)\n",
    "ar.sort()\n",
    "print(ar)"
   ]
  },
  {
   "cell_type": "code",
   "execution_count": 44,
   "metadata": {},
   "outputs": [
    {
     "name": "stdout",
     "output_type": "stream",
     "text": [
      "permutación que ordena: [ 6 22  8 28 10 13 20 24 29  9 16 18 26 19  2  3  1 11  5  0 25 17  4 21\n",
      " 23 14 27 15 12  7]\n",
      "ar ordenada: [0.03851077 0.11965891 0.13373977 0.14433144 0.15218666 0.15710475\n",
      " 0.20109191 0.20779282 0.25124812 0.2605218  0.31565538 0.31964162\n",
      " 0.38103078 0.41757891 0.43671129 0.46239237 0.4952705  0.49637206\n",
      " 0.53041966 0.63052784 0.67707051 0.70896337 0.72995049 0.74400732\n",
      " 0.85861192 0.89646211 0.91392904 0.92476988 0.94333498 0.9880695 ]\n"
     ]
    }
   ],
   "source": [
    "ar = np.random.rand(30)\n",
    "index = ar.argsort()\n",
    "print(\"permutación que ordena:\", index)\n",
    "b = ar[index]\n",
    "print(\"ar ordenada:\", b)"
   ]
  },
  {
   "cell_type": "markdown",
   "metadata": {},
   "source": [
    "## Búsqueda en arreglos ordenados"
   ]
  },
  {
   "cell_type": "code",
   "execution_count": 45,
   "metadata": {},
   "outputs": [
    {
     "data": {
      "text/plain": [
       "0"
      ]
     },
     "execution_count": 45,
     "metadata": {},
     "output_type": "execute_result"
    }
   ],
   "source": [
    "c = b.searchsorted(0.15)\n",
    "b[c-2:c+2]\n",
    "ar.searchsorted(0.15)"
   ]
  },
  {
   "cell_type": "markdown",
   "metadata": {},
   "source": [
    "### Media"
   ]
  },
  {
   "cell_type": "code",
   "execution_count": 46,
   "metadata": {},
   "outputs": [
    {
     "data": {
      "text/plain": [
       "(0.4845652157539036, 0.4845652157539037)"
      ]
     },
     "execution_count": 46,
     "metadata": {},
     "output_type": "execute_result"
    }
   ],
   "source": [
    "np.mean(ar), np.mean(b)"
   ]
  },
  {
   "cell_type": "markdown",
   "metadata": {},
   "source": [
    "### Varianza"
   ]
  },
  {
   "cell_type": "code",
   "execution_count": 47,
   "metadata": {},
   "outputs": [
    {
     "data": {
      "text/plain": [
       "(0.08380879375336577, 0.08380879375336578)"
      ]
     },
     "execution_count": 47,
     "metadata": {},
     "output_type": "execute_result"
    }
   ],
   "source": [
    "np.var(ar), np.var(b)"
   ]
  },
  {
   "cell_type": "markdown",
   "metadata": {},
   "source": [
    "# Desviación Estandar"
   ]
  },
  {
   "cell_type": "code",
   "execution_count": 48,
   "metadata": {},
   "outputs": [
    {
     "data": {
      "text/plain": [
       "0.2894974848826251"
      ]
     },
     "execution_count": 48,
     "metadata": {},
     "output_type": "execute_result"
    }
   ],
   "source": [
    "np.std(ar)"
   ]
  },
  {
   "cell_type": "markdown",
   "metadata": {},
   "source": [
    "# Media geométrica\n",
    "\n",
    "Para esto usaremos el paquete `mstats` de Scientific Python (_scipy_)"
   ]
  },
  {
   "cell_type": "code",
   "execution_count": 49,
   "metadata": {},
   "outputs": [
    {
     "data": {
      "text/plain": [
       "0.37987721409731773"
      ]
     },
     "execution_count": 49,
     "metadata": {},
     "output_type": "execute_result"
    }
   ],
   "source": [
    "from scipy.stats.mstats import gmean\n",
    "gmean(ar)"
   ]
  },
  {
   "cell_type": "markdown",
   "metadata": {},
   "source": [
    "### Media armónica"
   ]
  },
  {
   "cell_type": "code",
   "execution_count": 51,
   "metadata": {},
   "outputs": [
    {
     "data": {
      "text/plain": [
       "0.26161554804888115"
      ]
     },
     "execution_count": 51,
     "metadata": {},
     "output_type": "execute_result"
    }
   ],
   "source": [
    "from scipy.stats.mstats import hmean\n",
    "hmean(ar)"
   ]
  },
  {
   "cell_type": "markdown",
   "metadata": {},
   "source": [
    "# Generadores de números aleatorios\n",
    "Para estos ejemplos vamos a usar graficación en linea usando el paquete pylab `%pylab inline`; esta instrucción sirve solo en notebooks"
   ]
  },
  {
   "cell_type": "code",
   "execution_count": 55,
   "metadata": {},
   "outputs": [
    {
     "name": "stdout",
     "output_type": "stream",
     "text": [
      "Populating the interactive namespace from numpy and matplotlib\n"
     ]
    },
    {
     "data": {
      "image/png": "[encoded data removed]",
      "text/plain": [
       "<Figure size 432x288 with 1 Axes>"
      ]
     },
     "metadata": {
      "needs_background": "light"
     },
     "output_type": "display_data"
    }
   ],
   "source": [
    "%pylab inline\n",
    "\n",
    "muestra = np.random.uniform(size=1000)\n",
    "_ = hist(muestra)\n",
    "grid()"
   ]
  },
  {
   "cell_type": "code",
   "execution_count": 56,
   "metadata": {},
   "outputs": [
    {
     "data": {
      "image/png": "[encoded data removed]",
      "text/plain": [
       "<Figure size 432x288 with 1 Axes>"
      ]
     },
     "metadata": {
      "needs_background": "light"
     },
     "output_type": "display_data"
    }
   ],
   "source": [
    "muestra = np.random.normal(size=1000)\n",
    "_ = hist(muestra)"
   ]
  },
  {
   "cell_type": "code",
   "execution_count": 57,
   "metadata": {},
   "outputs": [
    {
     "data": {
      "text/plain": [
       "(-0.026820415976755725,\n",
       " -3.7231208726108016,\n",
       " 3.2855977387474313,\n",
       " 1.0076079422341668)"
      ]
     },
     "execution_count": 57,
     "metadata": {},
     "output_type": "execute_result"
    }
   ],
   "source": [
    "np.mean(muestra), muestra.min(), muestra.max(), np.std(muestra)"
   ]
  },
  {
   "cell_type": "markdown",
   "metadata": {},
   "source": [
    "## Estadísticas del titanic\n",
    "\n",
    "numpy tiene funciones para leer matrices de números"
   ]
  },
  {
   "cell_type": "code",
   "execution_count": 60,
   "metadata": {},
   "outputs": [
    {
     "name": "stdout",
     "output_type": "stream",
     "text": [
      "['', 'PassengerId', 'Survived', 'Pclass', 'Sex', 'Age', 'SibSp', 'Parch', 'Fare', 'Cabin', 'Lname', 'NamePrefix'] 12\n",
      "['Pclass', 'Sex', 'Age', 'SibSp', 'Parch', 'Fare', 'Cabin', 'Lname', 'NamePrefix']\n"
     ]
    }
   ],
   "source": [
    "header = open('Titanic_codificado_train.csv').readline().strip().split(',')\n",
    "print(header, len(header))\n",
    "titanic = np.loadtxt('Titanic_codificado_train.csv',\n",
    "                     delimiter=',', skiprows=1)\n",
    "clase = titanic[:, 2]  # : => acceder a la todos los elementos de la columna 2\n",
    "data = titanic[:, 3:]\n",
    "print(header[3:])"
   ]
  },
  {
   "cell_type": "markdown",
   "metadata": {},
   "source": [
    "## Sobrevivientes"
   ]
  },
  {
   "cell_type": "code",
   "execution_count": 62,
   "metadata": {},
   "outputs": [
    {
     "name": "stdout",
     "output_type": "stream",
     "text": [
      "(array([0., 1.]), array([549, 342]))\n"
     ]
    },
    {
     "data": {
      "text/plain": [
       "array([0.61616162, 0.38383838])"
      ]
     },
     "execution_count": 62,
     "metadata": {},
     "output_type": "execute_result"
    }
   ],
   "source": [
    "_, c = np.unique(clase, return_counts=True)\n",
    "print((_, c))\n",
    "c / c.sum()"
   ]
  },
  {
   "cell_type": "markdown",
   "metadata": {},
   "source": [
    "## Sexo"
   ]
  },
  {
   "cell_type": "code",
   "execution_count": 63,
   "metadata": {},
   "outputs": [
    {
     "data": {
      "image/png": "[encoded data removed]",
      "text/plain": [
       "<Figure size 432x288 with 1 Axes>"
      ]
     },
     "metadata": {
      "needs_background": "light"
     },
     "output_type": "display_data"
    }
   ],
   "source": [
    "_ = hist(data[:, 1])"
   ]
  },
  {
   "cell_type": "markdown",
   "metadata": {},
   "source": [
    "## Edad"
   ]
  },
  {
   "cell_type": "code",
   "execution_count": 64,
   "metadata": {},
   "outputs": [
    {
     "data": {
      "image/png": "[encoded data removed]",
      "text/plain": [
       "<Figure size 432x288 with 1 Axes>"
      ]
     },
     "metadata": {
      "needs_background": "light"
     },
     "output_type": "display_data"
    }
   ],
   "source": [
    "_ = hist(data[:, 2])"
   ]
  },
  {
   "cell_type": "markdown",
   "metadata": {},
   "source": [
    "### Selección de elementos\n",
    "\n",
    "Los arreglos de numpy se puede acceder por máscaras, esto es, arreglos de elementos booleanos que se corresponden uno a uno con los elementos del arreglo"
   ]
  },
  {
   "cell_type": "markdown",
   "metadata": {},
   "source": [
    "* ¿Cuántas mujeres sobrevivieron?\n",
    "* ¿Cuáles eran sus edades?"
   ]
  },
  {
   "cell_type": "code",
   "execution_count": 76,
   "metadata": {
    "scrolled": true
   },
   "outputs": [
    {
     "name": "stdout",
     "output_type": "stream",
     "text": [
      "máscara: (array([False,  True]), array([577, 314]))\n",
      "[0.25796178 0.74203822]\n",
      "las máscaras son arreglos de boolearnos, por lo que estan sujetas a operaciones booleanas\n",
      "[0.81109185 0.18890815]\n"
     ]
    }
   ],
   "source": [
    "genero = data[:, 1]\n",
    "mask = genero == 0\n",
    "print(\"máscara:\", np.unique(mask, return_counts=True))\n",
    "_, count = np.unique(clase[mask], return_counts=True)\n",
    "print(count / count.sum())\n",
    "print(\"las máscaras son arreglos de boolearnos, por lo que estan sujetas a operaciones booleanas\")\n",
    "_, count = np.unique(clase[~mask], return_counts=True) # ~ => negación de los elementos de la máscara\n",
    "print(count / count.sum())"
   ]
  },
  {
   "cell_type": "code",
   "execution_count": 77,
   "metadata": {},
   "outputs": [
    {
     "data": {
      "text/plain": [
       "(array([16.,  5.,  8.,  0.,  0., 13.,  0.,  9., 17., 13.]),\n",
       " array([0. , 0.7, 1.4, 2.1, 2.8, 3.5, 4.2, 4.9, 5.6, 6.3, 7. ]),\n",
       " <a list of 10 Patch objects>)"
      ]
     },
     "execution_count": 77,
     "metadata": {},
     "output_type": "execute_result"
    },
    {
     "data": {
      "image/png": "[encoded data removed]",
      "text/plain": [
       "<Figure size 432x288 with 1 Axes>"
      ]
     },
     "metadata": {
      "needs_background": "light"
     },
     "output_type": "display_data"
    }
   ],
   "source": [
    "edad = data[:, 2]\n",
    "edad_mujer = edad[mask]\n",
    "clase_mujer = clase[mask]\n",
    "hist(edad_mujer[clase_mujer == 0])"
   ]
  },
  {
   "cell_type": "code",
   "execution_count": 78,
   "metadata": {},
   "outputs": [
    {
     "name": "stdout",
     "output_type": "stream",
     "text": [
      "[0. 7. 7. 7. 5. 1. 0. 5. 0. 7. 6. 5. 2. 0. 6. 6. 6. 5. 5. 0. 7. 1. 4. 6.\n",
      " 5. 0. 7. 4. 1. 0. 7. 5. 5. 7. 6. 5. 7. 4. 7. 7. 4. 6. 5. 4. 5. 1. 7. 6.\n",
      " 0. 7. 4. 6. 4. 4. 2. 4. 5. 0. 6. 0. 1. 0. 6. 1. 6. 7. 4. 0. 0. 6. 4. 1.\n",
      " 5. 7. 7. 7. 7. 6. 7. 1. 6. 2. 6. 6. 4. 4. 7. 0. 7. 6. 7. 7. 0. 6. 0. 7.\n",
      " 0. 6. 3. 0. 7. 4. 7. 4. 4. 1. 0. 6. 6. 6. 5. 7. 4. 5. 7. 7. 4. 7. 0. 7.\n",
      " 4. 0. 0. 7. 5. 6. 6. 0. 4. 4. 0. 6. 4. 0. 6. 6. 0. 0. 6. 6. 4. 1. 6. 4.\n",
      " 0. 1. 7. 0. 5. 4. 4. 7. 7. 4. 4. 6. 7. 6. 7. 5. 2. 7. 7. 4. 6. 0. 5. 4.\n",
      " 4. 0. 7. 5. 1. 6. 0. 1. 7. 4. 4. 1. 3. 6. 7. 0. 4. 4. 6. 0. 5. 7. 0. 7.\n",
      " 0. 7. 0. 0. 1. 6. 7. 2. 7. 4. 0. 2. 2. 4. 4. 0. 0. 0. 6. 7. 0. 6. 7. 0.\n",
      " 6. 4. 0. 5. 0. 6. 6. 4. 4. 0. 0. 6. 4. 7. 1. 4. 2. 7. 0. 4. 1. 1. 4. 5.\n",
      " 6. 5. 7. 6. 0. 5. 0. 6. 5. 1. 6. 5. 5. 0. 4. 4. 0. 7. 2. 7. 6. 4. 7. 0.\n",
      " 4. 7. 1. 0. 7. 0. 0. 7. 0. 0. 1. 0. 5. 5. 5. 6. 0. 7. 7. 7. 5. 7. 2. 4.\n",
      " 0. 7. 3. 5. 0. 7. 6. 2. 5. 0. 5. 0. 4. 0. 6. 0. 7. 0. 7. 5. 0. 4. 4. 0.\n",
      " 4. 6.]\n"
     ]
    },
    {
     "data": {
      "text/plain": [
       "(array([54., 16.,  3.,  0.,  3., 41.,  0., 27., 36., 53.]),\n",
       " array([0. , 0.7, 1.4, 2.1, 2.8, 3.5, 4.2, 4.9, 5.6, 6.3, 7. ]),\n",
       " <a list of 10 Patch objects>)"
      ]
     },
     "execution_count": 78,
     "metadata": {},
     "output_type": "execute_result"
    },
    {
     "data": {
      "image/png": "[encoded data removed]",
      "text/plain": [
       "<Figure size 432x288 with 1 Axes>"
      ]
     },
     "metadata": {
      "needs_background": "light"
     },
     "output_type": "display_data"
    }
   ],
   "source": [
    "print(edad_mujer)\n",
    "hist(edad_mujer[clase_mujer == 1])"
   ]
  },
  {
   "cell_type": "code",
   "execution_count": 79,
   "metadata": {},
   "outputs": [
    {
     "data": {
      "text/plain": [
       "(12, -23)"
      ]
     },
     "execution_count": 79,
     "metadata": {},
     "output_type": "execute_result"
    }
   ],
   "source": [
    "a, b = 12, -23\n",
    "a, b\n",
    "c = np.array([12, -23])\n",
    "a, b = c\n",
    "a, b"
   ]
  },
  {
   "cell_type": "markdown",
   "metadata": {},
   "source": [
    "### Vectores - suma"
   ]
  },
  {
   "cell_type": "code",
   "execution_count": 80,
   "metadata": {},
   "outputs": [
    {
     "name": "stdout",
     "output_type": "stream",
     "text": [
      "[0.62 0.13 0.26] [0.35 0.16 0.43] [0.97 0.28 0.69 0.84 0.41 0.75 1.07 1.31 1.33 0.9 ]\n"
     ]
    }
   ],
   "source": [
    "import numpy as np\n",
    "a = np.random.uniform(size=10)\n",
    "np.set_printoptions(precision=2)\n",
    "b = np.random.uniform(size=10)\n",
    "c = a + b\n",
    "print(a[:3], b[:3], a + b)"
   ]
  },
  {
   "cell_type": "markdown",
   "metadata": {},
   "source": [
    "### Vectores - producto\n",
    "* $\\mathsf{dot}(\\mathbf a, \\mathbf b) = \\sum_i \\mathbf a_i \\mathbf b_i$"
   ]
  },
  {
   "cell_type": "code",
   "execution_count": 81,
   "metadata": {},
   "outputs": [
    {
     "data": {
      "text/plain": [
       "1.6215978353353409"
      ]
     },
     "execution_count": 81,
     "metadata": {},
     "output_type": "execute_result"
    }
   ],
   "source": [
    "np.dot(a, b)"
   ]
  },
  {
   "cell_type": "markdown",
   "metadata": {},
   "source": [
    "### Arreglos - producto\n",
    "\n",
    "* $\\mathbf c_i = \\mathbf a_i \\mathbf b_i$"
   ]
  },
  {
   "cell_type": "code",
   "execution_count": 82,
   "metadata": {},
   "outputs": [
    {
     "data": {
      "text/plain": [
       "array([0.22, 0.02, 0.11, 0.  , 0.04, 0.03, 0.26, 0.41, 0.44, 0.09])"
      ]
     },
     "execution_count": 82,
     "metadata": {},
     "output_type": "execute_result"
    }
   ],
   "source": [
    "a * b"
   ]
  },
  {
   "cell_type": "markdown",
   "metadata": {},
   "source": [
    "### Minkowski\n",
    "\n",
    "* $D(a, b) = \\left( \\sum_i^n \\left| a_i - b_i \\right|^p \\right)^{\\frac{1}{p}}$\n",
    "* La distancia Manhattan se define con $p=1$\n",
    "* La distancia Euclideana se define con $p=2$\n",
    "* La distancia de Chebyshev se define con $p \\rightarrow \\infty$"
   ]
  },
  {
   "cell_type": "markdown",
   "metadata": {},
   "source": [
    "### $p \\rightarrow \\infty$\n",
    "* $d(a, b) = \\max_i \\mid a_i - b_i \\mid$"
   ]
  },
  {
   "cell_type": "code",
   "execution_count": 83,
   "metadata": {},
   "outputs": [
    {
     "name": "stdout",
     "output_type": "stream",
     "text": [
      "0.8412986149659751\n"
     ]
    }
   ],
   "source": [
    "print(np.fabs(a - b).max())"
   ]
  },
  {
   "cell_type": "markdown",
   "metadata": {},
   "source": [
    "###  $p \\rightarrow -\\infty$\n",
    "* $d(a, b) = \\min_i \\mid a_i - b_i \\mid$"
   ]
  },
  {
   "cell_type": "code",
   "execution_count": 84,
   "metadata": {},
   "outputs": [
    {
     "name": "stdout",
     "output_type": "stream",
     "text": [
      "0.03028859056073052\n"
     ]
    }
   ],
   "source": [
    "print(np.fabs(a - b).min())"
   ]
  },
  {
   "cell_type": "markdown",
   "metadata": {},
   "source": [
    "### Euclideana"
   ]
  },
  {
   "cell_type": "code",
   "execution_count": 85,
   "metadata": {},
   "outputs": [
    {
     "data": {
      "text/plain": [
       "1.3700373935370396"
      ]
     },
     "execution_count": 85,
     "metadata": {},
     "output_type": "execute_result"
    }
   ],
   "source": [
    "np.sqrt(((a - b)**2).sum())"
   ]
  },
  {
   "cell_type": "markdown",
   "metadata": {},
   "source": [
    "## Norma\n",
    "\n",
    "* $|| \\mathcal a || = \\sqrt{\\sum_i \\mathcal a_i^2}$ "
   ]
  },
  {
   "cell_type": "code",
   "execution_count": 86,
   "metadata": {},
   "outputs": [
    {
     "name": "stdout",
     "output_type": "stream",
     "text": [
      "1.9791989877821519\n"
     ]
    }
   ],
   "source": [
    "c = (a)**2\n",
    "c = c.sum()\n",
    "print(np.sqrt(c))"
   ]
  },
  {
   "cell_type": "code",
   "execution_count": 88,
   "metadata": {},
   "outputs": [],
   "source": [
    "#### sin embargo, siempre vamos a preferir la ejecución de menos operaciones en python a favor de funciones de numpy"
   ]
  },
  {
   "cell_type": "code",
   "execution_count": 87,
   "metadata": {},
   "outputs": [
    {
     "name": "stdout",
     "output_type": "stream",
     "text": [
      "1.979198987782152\n"
     ]
    }
   ],
   "source": [
    "c = np.dot(a, a)\n",
    "print(np.sqrt(c))"
   ]
  },
  {
   "cell_type": "markdown",
   "metadata": {},
   "source": [
    "### Similaridad coseno\n",
    "\n",
    "* $s(\\mathbf a, \\mathbf b) = \\cos(\\theta) = \\frac{\\mathbf a \\cdot \\mathbf b}{\\mid \\mid \\mathbf a \\mid \\mid ~ \\mid \\mid \\mathbf b \\mid \\mid}$"
   ]
  },
  {
   "cell_type": "code",
   "execution_count": 89,
   "metadata": {},
   "outputs": [
    {
     "name": "stdout",
     "output_type": "stream",
     "text": [
      "0.7470099526339222\n",
      "0.9999999999999999\n"
     ]
    }
   ],
   "source": [
    "norm = lambda x: np.sqrt(np.dot(x, x))\n",
    "print(np.dot(a, b) / (norm(a) * norm(b)))\n",
    "print(np.dot(a, a) / (norm(a) * norm(a)))"
   ]
  },
  {
   "cell_type": "markdown",
   "metadata": {},
   "source": [
    "### Índice Jaccard\n",
    "* $j(\\mathbf a, \\mathbf b) = \\frac{\\mid \\mathbf a \\cap \\mathbf b \\mid}{\\mid \\mathbf a \\cup \\mathbf b \\mid}$"
   ]
  },
  {
   "cell_type": "code",
   "execution_count": 90,
   "metadata": {},
   "outputs": [
    {
     "name": "stdout",
     "output_type": "stream",
     "text": [
      "0.16666666666666666\n",
      "0.16666666666666666\n"
     ]
    }
   ],
   "source": [
    "a = np.random.randint(0, 2, size=10)\n",
    "b = np.random.randint(0, 2, size=10)\n",
    "_ = a + b\n",
    "_[_ > 1] = 1\n",
    "print(np.dot(a, b) / _.sum())\n",
    "print(np.dot(a, b) / ((a + b) >= 1).sum())"
   ]
  },
  {
   "cell_type": "markdown",
   "metadata": {},
   "source": [
    "## Regresión lineal\n",
    "\n",
    "* $y = m x + b$\n",
    "* $A \\mathbf x = \\mathbf y$\n",
    "* $A' A \\mathbf x = A' \\mathbf y $\n",
    "* $(A' A)^{-1} A' A \\mathbf x = ( A' A)^{-1} A' \\mathbf y $\n",
    "* $\\mathbf x = ( A' A)^{-1} A' \\mathbf y $"
   ]
  },
  {
   "cell_type": "code",
   "execution_count": 91,
   "metadata": {},
   "outputs": [
    {
     "name": "stdout",
     "output_type": "stream",
     "text": [
      ".. _boston_dataset:\n",
      "\n",
      "Boston house prices dataset\n",
      "---------------------------\n",
      "\n",
      "**Data Set Characteristics:**  \n",
      "\n",
      "    :Number of Instances: 506 \n",
      "\n",
      "    :Number of Attributes: 13 numeric/categorical predictive. Median Value (attribute 14) is usually the target.\n",
      "\n",
      "    :Attribute Information (in order):\n",
      "        - CRIM     per capita crime rate by town\n",
      "        - ZN       proportion of residential land zoned for lots over 25,000 sq.ft.\n",
      "        - INDUS    proportion of non-retail business acres per town\n",
      "        - CHAS     Charles River dummy variable (= 1 if tract bounds river; 0 otherwise)\n",
      "        - NOX      nitric oxides concentration (parts per 10 million)\n",
      "        - RM       average number of rooms per dwelling\n",
      "        - AGE      proportion of owner-occupied units built prior to 1940\n",
      "        - DIS      weighted distances to five Boston employment centres\n",
      "        - RAD      index of accessibility to radial highways\n",
      "        - TAX      full-value property-tax rate per $10,000\n",
      "        - PTRATIO  pupil-teacher ratio by town\n",
      "        - B        1000(Bk - 0.63)^2 where Bk is the proportion of blacks by town\n",
      "        - LSTAT    % lower status of the population\n",
      "        - MEDV     Median value of owner-occupied homes in $1000's\n",
      "\n",
      "    :Missing Attribute Values: None\n",
      "\n",
      "    :Creator: Harrison, D. and Rubinfeld, D.L.\n",
      "\n",
      "This is a copy of UCI ML housing dataset.\n",
      "https://archive.ics.uci.edu/ml/machine-learning-databases/housing/\n",
      "\n",
      "\n",
      "This dataset was taken from the StatLib library which is maintained at Carnegie Mellon University.\n",
      "\n",
      "The Boston house-price data of Harrison, D. and Rubinfeld, D.L. 'Hedonic\n",
      "prices and the demand for clean air', J. Environ. Economics & Management,\n",
      "vol.5, 81-102, 1978.   Used in Belsley, Kuh & Welsch, 'Regression diagnostics\n",
      "...', Wiley, 1980.   N.B. Various transformations are used in the table on\n",
      "pages 244-261 of the latter.\n",
      "\n",
      "The Boston house-price data has been used in many machine learning papers that address regression\n",
      "problems.   \n",
      "     \n",
      ".. topic:: References\n",
      "\n",
      "   - Belsley, Kuh & Welsch, 'Regression diagnostics: Identifying Influential Data and Sources of Collinearity', Wiley, 1980. 244-261.\n",
      "   - Quinlan,R. (1993). Combining Instance-Based and Model-Based Learning. In Proceedings on the Tenth International Conference of Machine Learning, 236-243, University of Massachusetts, Amherst. Morgan Kaufmann.\n",
      "\n"
     ]
    }
   ],
   "source": [
    "from sklearn import datasets\n",
    "boston = datasets.load_boston()\n",
    "print(boston.DESCR)"
   ]
  },
  {
   "cell_type": "code",
   "execution_count": 92,
   "metadata": {},
   "outputs": [
    {
     "data": {
      "text/plain": [
       "array([2.25e-01, 1.25e+01, 7.87e+00, 0.00e+00, 5.24e-01, 6.38e+00,\n",
       "       9.43e+01, 6.35e+00, 5.00e+00, 3.11e+02, 1.52e+01, 3.93e+02,\n",
       "       2.04e+01])"
      ]
     },
     "execution_count": 92,
     "metadata": {},
     "output_type": "execute_result"
    }
   ],
   "source": [
    "boston.data[10]"
   ]
  },
  {
   "cell_type": "code",
   "execution_count": 95,
   "metadata": {},
   "outputs": [
    {
     "name": "stdout",
     "output_type": "stream",
     "text": [
      "[-9.29e-02  4.87e-02 -4.06e-03  2.85e+00 -2.87e+00  5.93e+00 -7.27e-03\n",
      " -9.69e-01  1.71e-01 -9.40e-03 -3.92e-01  1.49e-02 -4.16e-01] [2.25e-01 1.25e+01 7.87e+00 0.00e+00 5.24e-01 6.38e+00 9.43e+01 6.35e+00\n",
      " 5.00e+00 3.11e+02 1.52e+01 3.93e+02 2.04e+01]\n"
     ]
    },
    {
     "data": {
      "text/plain": [
       "(19.33401835194541, 15.0)"
      ]
     },
     "execution_count": 95,
     "metadata": {},
     "output_type": "execute_result"
    }
   ],
   "source": [
    "coef = np.linalg.lstsq(boston.data, boston.target, rcond=None)[0]\n",
    "print(coef, boston.data[10])\n",
    "np.dot(coef, boston.data[10]), boston.target[10]"
   ]
  },
  {
   "cell_type": "code",
   "execution_count": 110,
   "metadata": {},
   "outputs": [
    {
     "data": {
      "text/plain": [
       "[<matplotlib.lines.Line2D at 0x1a2592ab10>]"
      ]
     },
     "execution_count": 110,
     "metadata": {},
     "output_type": "execute_result"
    },
    {
     "data": {
      "image/png": "[encoded data removed]",
      "text/plain": [
       "<Figure size 432x288 with 1 Axes>"
      ]
     },
     "metadata": {
      "needs_background": "light"
     },
     "output_type": "display_data"
    }
   ],
   "source": [
    "pred = np.dot(boston.data, coef)\n",
    "plot(pred, boston.target, '.')"
   ]
  },
  {
   "cell_type": "code",
   "execution_count": 112,
   "metadata": {},
   "outputs": [],
   "source": [
    "### ¿cómo se veria una predicción aleatoria?"
   ]
  },
  {
   "cell_type": "code",
   "execution_count": 113,
   "metadata": {},
   "outputs": [
    {
     "data": {
      "text/plain": [
       "[<matplotlib.lines.Line2D at 0x1a25a94f10>]"
      ]
     },
     "execution_count": 113,
     "metadata": {},
     "output_type": "execute_result"
    },
    {
     "data": {
      "image/png": "[encoded data removed]",
      "text/plain": [
       "<Figure size 432x288 with 1 Axes>"
      ]
     },
     "metadata": {
      "needs_background": "light"
     },
     "output_type": "display_data"
    }
   ],
   "source": [
    "y = boston.target.copy()\n",
    "np.random.shuffle(y)\n",
    "plot(np.dot(boston.data, coef), y, '.')"
   ]
  },
  {
   "cell_type": "markdown",
   "metadata": {},
   "source": [
    "# Ejercicios\n",
    "- Cree un notebook de Jupyter\n",
    "- Lea el conjunto de datos `Titanic_codificado_train.csv`\n",
    "- Cálcule la matriz de distancias euclideas (i.e., todos los elementos vs todos los elementos) del conjunto de datos\n",
    "- Determine la distancia mínima y la distancia máxima por elemento; determine los valores promedios, la desviación estandar tanto de las de las distancias mínimás como de las distancias máximas."
   ]
  }
 ],
 "metadata": {
  "kernelspec": {
   "display_name": "Python 3",
   "language": "python",
   "name": "python3"
  },
  "language_info": {
   "codemirror_mode": {
    "name": "ipython",
    "version": 3
   },
   "file_extension": ".py",
   "mimetype": "text/x-python",
   "name": "python",
   "nbconvert_exporter": "python",
   "pygments_lexer": "ipython3",
   "version": "3.7.4"
  }
 },
 "nbformat": 4,
 "nbformat_minor": 4
}
